{
 "cells": [
  {
   "cell_type": "code",
   "execution_count": 3,
   "metadata": {
    "collapsed": false
   },
   "outputs": [],
   "source": [
    "import pandas as pd\n",
    "import numpy as np\n",
    "import xgboost as xgb\n",
    "from sklearn import preprocessing, neighbors, svm\n",
    "from sklearn.preprocessing import OneHotEncoder\n",
    "from sklearn.ensemble import RandomForestClassifier, BaggingClassifier, VotingClassifier, GradientBoostingClassifier, ExtraTreesClassifier, \\\n",
    "  RandomForestRegressor, AdaBoostRegressor, RandomForestRegressor, GradientBoostingRegressor, AdaBoostClassifier\n",
    "from sklearn.cluster import KMeans\n",
    "from sklearn.metrics import accuracy_score, mean_squared_error, mean_absolute_error, r2_score,  confusion_matrix, classification_report\n",
    "from sklearn.model_selection import cross_val_score, train_test_split\n",
    "from sklearn.linear_model import LogisticRegression, LinearRegression, LogisticRegressionCV\n",
    "from sklearn.naive_bayes import MultinomialNB\n",
    "from sklearn.decomposition import PCA\n",
    "\n",
    "%matplotlib inline\n",
    "import matplotlib.pyplot as plt\n",
    "from mpl_toolkits.mplot3d import Axes3D\n",
    "from math import sqrt\n",
    "\n",
    "import itertools\n",
    "from itertools import cycle\n",
    "\n",
    "import pickle\n",
    "DIR_DATA = \"data\"\n",
    "DIR_PROCESSED = \"processed\"\n",
    "LABEL = \"Status\"\n",
    "NON_PREDICTORS = [LABEL]#, \"name\",\"anime_id\"]\n",
    "CV_FOLDS = 5"
   ]
  },
  {
   "cell_type": "code",
   "execution_count": 4,
   "metadata": {
    "collapsed": true
   },
   "outputs": [],
   "source": [
    "# No-show-Issue-Comma-300k.csv"
   ]
  },
  {
   "cell_type": "code",
   "execution_count": 46,
   "metadata": {
    "collapsed": false
   },
   "outputs": [
    {
     "data": {
      "text/html": [
       "<div>\n",
       "<table border=\"1\" class=\"dataframe\">\n",
       "  <thead>\n",
       "    <tr style=\"text-align: right;\">\n",
       "      <th></th>\n",
       "      <th>Age</th>\n",
       "      <th>Gender</th>\n",
       "      <th>AppointmentRegistration</th>\n",
       "      <th>ApointmentData</th>\n",
       "      <th>DayOfTheWeek</th>\n",
       "      <th>Status</th>\n",
       "      <th>Diabetes</th>\n",
       "      <th>Alcoolism</th>\n",
       "      <th>HiperTension</th>\n",
       "      <th>Handcap</th>\n",
       "      <th>Smokes</th>\n",
       "      <th>Scholarship</th>\n",
       "      <th>Tuberculosis</th>\n",
       "      <th>Sms_Reminder</th>\n",
       "      <th>AwaitingTime</th>\n",
       "    </tr>\n",
       "  </thead>\n",
       "  <tbody>\n",
       "    <tr>\n",
       "      <th>0</th>\n",
       "      <td>19</td>\n",
       "      <td>M</td>\n",
       "      <td>2014-12-16T14:46:25Z</td>\n",
       "      <td>2015-01-14T00:00:00Z</td>\n",
       "      <td>Wednesday</td>\n",
       "      <td>Show-Up</td>\n",
       "      <td>0</td>\n",
       "      <td>0</td>\n",
       "      <td>0</td>\n",
       "      <td>0</td>\n",
       "      <td>0</td>\n",
       "      <td>0</td>\n",
       "      <td>0</td>\n",
       "      <td>0</td>\n",
       "      <td>-29</td>\n",
       "    </tr>\n",
       "    <tr>\n",
       "      <th>1</th>\n",
       "      <td>24</td>\n",
       "      <td>F</td>\n",
       "      <td>2015-08-18T07:01:26Z</td>\n",
       "      <td>2015-08-19T00:00:00Z</td>\n",
       "      <td>Wednesday</td>\n",
       "      <td>Show-Up</td>\n",
       "      <td>0</td>\n",
       "      <td>0</td>\n",
       "      <td>0</td>\n",
       "      <td>0</td>\n",
       "      <td>0</td>\n",
       "      <td>0</td>\n",
       "      <td>0</td>\n",
       "      <td>0</td>\n",
       "      <td>-1</td>\n",
       "    </tr>\n",
       "    <tr>\n",
       "      <th>2</th>\n",
       "      <td>4</td>\n",
       "      <td>F</td>\n",
       "      <td>2014-02-17T12:53:46Z</td>\n",
       "      <td>2014-02-18T00:00:00Z</td>\n",
       "      <td>Tuesday</td>\n",
       "      <td>Show-Up</td>\n",
       "      <td>0</td>\n",
       "      <td>0</td>\n",
       "      <td>0</td>\n",
       "      <td>0</td>\n",
       "      <td>0</td>\n",
       "      <td>0</td>\n",
       "      <td>0</td>\n",
       "      <td>0</td>\n",
       "      <td>-1</td>\n",
       "    </tr>\n",
       "    <tr>\n",
       "      <th>3</th>\n",
       "      <td>5</td>\n",
       "      <td>M</td>\n",
       "      <td>2014-07-23T17:02:11Z</td>\n",
       "      <td>2014-08-07T00:00:00Z</td>\n",
       "      <td>Thursday</td>\n",
       "      <td>Show-Up</td>\n",
       "      <td>0</td>\n",
       "      <td>0</td>\n",
       "      <td>0</td>\n",
       "      <td>0</td>\n",
       "      <td>0</td>\n",
       "      <td>0</td>\n",
       "      <td>0</td>\n",
       "      <td>1</td>\n",
       "      <td>-15</td>\n",
       "    </tr>\n",
       "    <tr>\n",
       "      <th>4</th>\n",
       "      <td>38</td>\n",
       "      <td>M</td>\n",
       "      <td>2015-10-21T15:20:09Z</td>\n",
       "      <td>2015-10-27T00:00:00Z</td>\n",
       "      <td>Tuesday</td>\n",
       "      <td>Show-Up</td>\n",
       "      <td>0</td>\n",
       "      <td>0</td>\n",
       "      <td>0</td>\n",
       "      <td>0</td>\n",
       "      <td>0</td>\n",
       "      <td>0</td>\n",
       "      <td>0</td>\n",
       "      <td>1</td>\n",
       "      <td>-6</td>\n",
       "    </tr>\n",
       "  </tbody>\n",
       "</table>\n",
       "</div>"
      ],
      "text/plain": [
       "   Age Gender AppointmentRegistration        ApointmentData DayOfTheWeek  \\\n",
       "0   19      M    2014-12-16T14:46:25Z  2015-01-14T00:00:00Z    Wednesday   \n",
       "1   24      F    2015-08-18T07:01:26Z  2015-08-19T00:00:00Z    Wednesday   \n",
       "2    4      F    2014-02-17T12:53:46Z  2014-02-18T00:00:00Z      Tuesday   \n",
       "3    5      M    2014-07-23T17:02:11Z  2014-08-07T00:00:00Z     Thursday   \n",
       "4   38      M    2015-10-21T15:20:09Z  2015-10-27T00:00:00Z      Tuesday   \n",
       "\n",
       "    Status  Diabetes  Alcoolism  HiperTension  Handcap  Smokes  Scholarship  \\\n",
       "0  Show-Up         0          0             0        0       0            0   \n",
       "1  Show-Up         0          0             0        0       0            0   \n",
       "2  Show-Up         0          0             0        0       0            0   \n",
       "3  Show-Up         0          0             0        0       0            0   \n",
       "4  Show-Up         0          0             0        0       0            0   \n",
       "\n",
       "   Tuberculosis  Sms_Reminder  AwaitingTime  \n",
       "0             0             0           -29  \n",
       "1             0             0            -1  \n",
       "2             0             0            -1  \n",
       "3             0             1           -15  \n",
       "4             0             1            -6  "
      ]
     },
     "execution_count": 46,
     "metadata": {},
     "output_type": "execute_result"
    }
   ],
   "source": [
    "ma = pd.read_csv(DIR_DATA + '/No-show-Issue-Comma-300k.csv')\n",
    "ma.head()"
   ]
  },
  {
   "cell_type": "code",
   "execution_count": 47,
   "metadata": {
    "collapsed": false
   },
   "outputs": [
    {
     "name": "stdout",
     "output_type": "stream",
     "text": [
      "Percent who left: 30.24%\n"
     ]
    }
   ],
   "source": [
    "print('Percent who left: {:.2f}%'.format((1 - np.sum(ma.Status == 'Show-Up') / len(ma.Status)) * 100))"
   ]
  },
  {
   "cell_type": "code",
   "execution_count": 48,
   "metadata": {
    "collapsed": false
   },
   "outputs": [],
   "source": [
    "def getTime(appointment):\n",
    "    hour, minute, _ = appointment.strip('Z').split(':')\n",
    "    \n",
    "    hour = int(hour[-2:])\n",
    "    minute = int(minute)\n",
    "    return 60*hour + minute\n",
    "\n",
    "ma[\"AppointmenTime\"] = ma.AppointmentRegistration.apply(lambda x: getTime(x))"
   ]
  },
  {
   "cell_type": "code",
   "execution_count": 49,
   "metadata": {
    "collapsed": false
   },
   "outputs": [
    {
     "data": {
      "text/html": [
       "<div>\n",
       "<table border=\"1\" class=\"dataframe\">\n",
       "  <thead>\n",
       "    <tr style=\"text-align: right;\">\n",
       "      <th></th>\n",
       "      <th>Age</th>\n",
       "      <th>Diabetes</th>\n",
       "      <th>Alcoolism</th>\n",
       "      <th>HiperTension</th>\n",
       "      <th>Handcap</th>\n",
       "      <th>Smokes</th>\n",
       "      <th>Scholarship</th>\n",
       "      <th>Tuberculosis</th>\n",
       "      <th>Sms_Reminder</th>\n",
       "      <th>AwaitingTime</th>\n",
       "      <th>AppointmenTime</th>\n",
       "    </tr>\n",
       "  </thead>\n",
       "  <tbody>\n",
       "    <tr>\n",
       "      <th>count</th>\n",
       "      <td>300000.000000</td>\n",
       "      <td>300000.000000</td>\n",
       "      <td>300000.000000</td>\n",
       "      <td>300000.000000</td>\n",
       "      <td>300000.000000</td>\n",
       "      <td>300000.000000</td>\n",
       "      <td>300000.000000</td>\n",
       "      <td>300000.000000</td>\n",
       "      <td>300000.000000</td>\n",
       "      <td>300000.000000</td>\n",
       "      <td>300000.000000</td>\n",
       "    </tr>\n",
       "    <tr>\n",
       "      <th>mean</th>\n",
       "      <td>37.808017</td>\n",
       "      <td>0.077967</td>\n",
       "      <td>0.025010</td>\n",
       "      <td>0.215890</td>\n",
       "      <td>0.020523</td>\n",
       "      <td>0.052370</td>\n",
       "      <td>0.096897</td>\n",
       "      <td>0.000450</td>\n",
       "      <td>0.574173</td>\n",
       "      <td>-13.841813</td>\n",
       "      <td>705.811503</td>\n",
       "    </tr>\n",
       "    <tr>\n",
       "      <th>std</th>\n",
       "      <td>22.809014</td>\n",
       "      <td>0.268120</td>\n",
       "      <td>0.156156</td>\n",
       "      <td>0.411439</td>\n",
       "      <td>0.155934</td>\n",
       "      <td>0.222772</td>\n",
       "      <td>0.295818</td>\n",
       "      <td>0.021208</td>\n",
       "      <td>0.499826</td>\n",
       "      <td>15.687697</td>\n",
       "      <td>193.880593</td>\n",
       "    </tr>\n",
       "    <tr>\n",
       "      <th>min</th>\n",
       "      <td>-2.000000</td>\n",
       "      <td>0.000000</td>\n",
       "      <td>0.000000</td>\n",
       "      <td>0.000000</td>\n",
       "      <td>0.000000</td>\n",
       "      <td>0.000000</td>\n",
       "      <td>0.000000</td>\n",
       "      <td>0.000000</td>\n",
       "      <td>0.000000</td>\n",
       "      <td>-398.000000</td>\n",
       "      <td>354.000000</td>\n",
       "    </tr>\n",
       "    <tr>\n",
       "      <th>25%</th>\n",
       "      <td>19.000000</td>\n",
       "      <td>0.000000</td>\n",
       "      <td>0.000000</td>\n",
       "      <td>0.000000</td>\n",
       "      <td>0.000000</td>\n",
       "      <td>0.000000</td>\n",
       "      <td>0.000000</td>\n",
       "      <td>0.000000</td>\n",
       "      <td>0.000000</td>\n",
       "      <td>-20.000000</td>\n",
       "      <td>537.000000</td>\n",
       "    </tr>\n",
       "    <tr>\n",
       "      <th>50%</th>\n",
       "      <td>38.000000</td>\n",
       "      <td>0.000000</td>\n",
       "      <td>0.000000</td>\n",
       "      <td>0.000000</td>\n",
       "      <td>0.000000</td>\n",
       "      <td>0.000000</td>\n",
       "      <td>0.000000</td>\n",
       "      <td>0.000000</td>\n",
       "      <td>1.000000</td>\n",
       "      <td>-8.000000</td>\n",
       "      <td>667.000000</td>\n",
       "    </tr>\n",
       "    <tr>\n",
       "      <th>75%</th>\n",
       "      <td>56.000000</td>\n",
       "      <td>0.000000</td>\n",
       "      <td>0.000000</td>\n",
       "      <td>0.000000</td>\n",
       "      <td>0.000000</td>\n",
       "      <td>0.000000</td>\n",
       "      <td>0.000000</td>\n",
       "      <td>0.000000</td>\n",
       "      <td>1.000000</td>\n",
       "      <td>-4.000000</td>\n",
       "      <td>872.000000</td>\n",
       "    </tr>\n",
       "    <tr>\n",
       "      <th>max</th>\n",
       "      <td>113.000000</td>\n",
       "      <td>1.000000</td>\n",
       "      <td>1.000000</td>\n",
       "      <td>1.000000</td>\n",
       "      <td>4.000000</td>\n",
       "      <td>1.000000</td>\n",
       "      <td>1.000000</td>\n",
       "      <td>1.000000</td>\n",
       "      <td>2.000000</td>\n",
       "      <td>-1.000000</td>\n",
       "      <td>1362.000000</td>\n",
       "    </tr>\n",
       "  </tbody>\n",
       "</table>\n",
       "</div>"
      ],
      "text/plain": [
       "                 Age       Diabetes      Alcoolism   HiperTension  \\\n",
       "count  300000.000000  300000.000000  300000.000000  300000.000000   \n",
       "mean       37.808017       0.077967       0.025010       0.215890   \n",
       "std        22.809014       0.268120       0.156156       0.411439   \n",
       "min        -2.000000       0.000000       0.000000       0.000000   \n",
       "25%        19.000000       0.000000       0.000000       0.000000   \n",
       "50%        38.000000       0.000000       0.000000       0.000000   \n",
       "75%        56.000000       0.000000       0.000000       0.000000   \n",
       "max       113.000000       1.000000       1.000000       1.000000   \n",
       "\n",
       "             Handcap         Smokes    Scholarship   Tuberculosis  \\\n",
       "count  300000.000000  300000.000000  300000.000000  300000.000000   \n",
       "mean        0.020523       0.052370       0.096897       0.000450   \n",
       "std         0.155934       0.222772       0.295818       0.021208   \n",
       "min         0.000000       0.000000       0.000000       0.000000   \n",
       "25%         0.000000       0.000000       0.000000       0.000000   \n",
       "50%         0.000000       0.000000       0.000000       0.000000   \n",
       "75%         0.000000       0.000000       0.000000       0.000000   \n",
       "max         4.000000       1.000000       1.000000       1.000000   \n",
       "\n",
       "        Sms_Reminder   AwaitingTime  AppointmenTime  \n",
       "count  300000.000000  300000.000000   300000.000000  \n",
       "mean        0.574173     -13.841813      705.811503  \n",
       "std         0.499826      15.687697      193.880593  \n",
       "min         0.000000    -398.000000      354.000000  \n",
       "25%         0.000000     -20.000000      537.000000  \n",
       "50%         1.000000      -8.000000      667.000000  \n",
       "75%         1.000000      -4.000000      872.000000  \n",
       "max         2.000000      -1.000000     1362.000000  "
      ]
     },
     "execution_count": 49,
     "metadata": {},
     "output_type": "execute_result"
    }
   ],
   "source": [
    "ma.describe()"
   ]
  },
  {
   "cell_type": "code",
   "execution_count": 50,
   "metadata": {
    "collapsed": false
   },
   "outputs": [],
   "source": [
    "ma.Status = ma.Status.astype('category').cat.codes\n",
    "ma.Gender = ma.Gender.astype('category').cat.codes\n",
    "ma.DayOfTheWeek = ma.DayOfTheWeek.astype('category').cat.codes\n",
    "# hr.Work_accident = hr.Work_accident.astype('category')\n",
    "# hr.promotion_last_5years = hr.promotion_last_5years.astype('category')\n",
    "# hr.left = hr.left.astype('category')\n",
    "\n",
    "# Normalizing waiting time to mean 0 and unit variance\n",
    "ma.AwaitingTime = ma.AwaitingTime.astype(np.float64)\n",
    "wait_time_scaler = preprocessing.MinMaxScaler() #preprocessing.StandardScaler()\n",
    "ma.AwaitingTime = wait_time_scaler.fit_transform(ma.AwaitingTime.values.reshape(-1,1))\n",
    "\n",
    "# Feature Scaling Age to be between [0,1]\n",
    "ma.Age = ma.Age.astype(np.float64)\n",
    "age_scaler = preprocessing.MinMaxScaler()\n",
    "ma.Age = age_scaler.fit_transform(ma.Age.values.reshape(-1,1))\n",
    "\n",
    "# Feature Scaling Age to be between [0,1]\n",
    "ma.AppointmenTime = ma.AppointmenTime.astype(np.float64)\n",
    "time_scaler = preprocessing.MinMaxScaler()\n",
    "ma.AppointmenTime = time_scaler.fit_transform(ma.AppointmenTime.values.reshape(-1,1))\n",
    "\n",
    "\n"
   ]
  },
  {
   "cell_type": "code",
   "execution_count": 51,
   "metadata": {
    "collapsed": false
   },
   "outputs": [
    {
     "data": {
      "text/html": [
       "<div>\n",
       "<table border=\"1\" class=\"dataframe\">\n",
       "  <thead>\n",
       "    <tr style=\"text-align: right;\">\n",
       "      <th></th>\n",
       "      <th>Age</th>\n",
       "      <th>Gender</th>\n",
       "      <th>AppointmentRegistration</th>\n",
       "      <th>ApointmentData</th>\n",
       "      <th>DayOfTheWeek</th>\n",
       "      <th>Status</th>\n",
       "      <th>Diabetes</th>\n",
       "      <th>Alcoolism</th>\n",
       "      <th>HiperTension</th>\n",
       "      <th>Handcap</th>\n",
       "      <th>Smokes</th>\n",
       "      <th>Scholarship</th>\n",
       "      <th>Tuberculosis</th>\n",
       "      <th>Sms_Reminder</th>\n",
       "      <th>AwaitingTime</th>\n",
       "      <th>AppointmenTime</th>\n",
       "    </tr>\n",
       "  </thead>\n",
       "  <tbody>\n",
       "    <tr>\n",
       "      <th>0</th>\n",
       "      <td>0.182609</td>\n",
       "      <td>1</td>\n",
       "      <td>2014-12-16T14:46:25Z</td>\n",
       "      <td>2015-01-14T00:00:00Z</td>\n",
       "      <td>6</td>\n",
       "      <td>1</td>\n",
       "      <td>0</td>\n",
       "      <td>0</td>\n",
       "      <td>0</td>\n",
       "      <td>0</td>\n",
       "      <td>0</td>\n",
       "      <td>0</td>\n",
       "      <td>0</td>\n",
       "      <td>0</td>\n",
       "      <td>0.929471</td>\n",
       "      <td>0.527778</td>\n",
       "    </tr>\n",
       "    <tr>\n",
       "      <th>1</th>\n",
       "      <td>0.226087</td>\n",
       "      <td>0</td>\n",
       "      <td>2015-08-18T07:01:26Z</td>\n",
       "      <td>2015-08-19T00:00:00Z</td>\n",
       "      <td>6</td>\n",
       "      <td>1</td>\n",
       "      <td>0</td>\n",
       "      <td>0</td>\n",
       "      <td>0</td>\n",
       "      <td>0</td>\n",
       "      <td>0</td>\n",
       "      <td>0</td>\n",
       "      <td>0</td>\n",
       "      <td>0</td>\n",
       "      <td>1.000000</td>\n",
       "      <td>0.066468</td>\n",
       "    </tr>\n",
       "    <tr>\n",
       "      <th>2</th>\n",
       "      <td>0.052174</td>\n",
       "      <td>0</td>\n",
       "      <td>2014-02-17T12:53:46Z</td>\n",
       "      <td>2014-02-18T00:00:00Z</td>\n",
       "      <td>5</td>\n",
       "      <td>1</td>\n",
       "      <td>0</td>\n",
       "      <td>0</td>\n",
       "      <td>0</td>\n",
       "      <td>0</td>\n",
       "      <td>0</td>\n",
       "      <td>0</td>\n",
       "      <td>0</td>\n",
       "      <td>0</td>\n",
       "      <td>1.000000</td>\n",
       "      <td>0.415675</td>\n",
       "    </tr>\n",
       "    <tr>\n",
       "      <th>3</th>\n",
       "      <td>0.060870</td>\n",
       "      <td>1</td>\n",
       "      <td>2014-07-23T17:02:11Z</td>\n",
       "      <td>2014-08-07T00:00:00Z</td>\n",
       "      <td>4</td>\n",
       "      <td>1</td>\n",
       "      <td>0</td>\n",
       "      <td>0</td>\n",
       "      <td>0</td>\n",
       "      <td>0</td>\n",
       "      <td>0</td>\n",
       "      <td>0</td>\n",
       "      <td>0</td>\n",
       "      <td>1</td>\n",
       "      <td>0.964736</td>\n",
       "      <td>0.662698</td>\n",
       "    </tr>\n",
       "    <tr>\n",
       "      <th>4</th>\n",
       "      <td>0.347826</td>\n",
       "      <td>1</td>\n",
       "      <td>2015-10-21T15:20:09Z</td>\n",
       "      <td>2015-10-27T00:00:00Z</td>\n",
       "      <td>5</td>\n",
       "      <td>1</td>\n",
       "      <td>0</td>\n",
       "      <td>0</td>\n",
       "      <td>0</td>\n",
       "      <td>0</td>\n",
       "      <td>0</td>\n",
       "      <td>0</td>\n",
       "      <td>0</td>\n",
       "      <td>1</td>\n",
       "      <td>0.987406</td>\n",
       "      <td>0.561508</td>\n",
       "    </tr>\n",
       "  </tbody>\n",
       "</table>\n",
       "</div>"
      ],
      "text/plain": [
       "        Age  Gender AppointmentRegistration        ApointmentData  \\\n",
       "0  0.182609       1    2014-12-16T14:46:25Z  2015-01-14T00:00:00Z   \n",
       "1  0.226087       0    2015-08-18T07:01:26Z  2015-08-19T00:00:00Z   \n",
       "2  0.052174       0    2014-02-17T12:53:46Z  2014-02-18T00:00:00Z   \n",
       "3  0.060870       1    2014-07-23T17:02:11Z  2014-08-07T00:00:00Z   \n",
       "4  0.347826       1    2015-10-21T15:20:09Z  2015-10-27T00:00:00Z   \n",
       "\n",
       "   DayOfTheWeek  Status  Diabetes  Alcoolism  HiperTension  Handcap  Smokes  \\\n",
       "0             6       1         0          0             0        0       0   \n",
       "1             6       1         0          0             0        0       0   \n",
       "2             5       1         0          0             0        0       0   \n",
       "3             4       1         0          0             0        0       0   \n",
       "4             5       1         0          0             0        0       0   \n",
       "\n",
       "   Scholarship  Tuberculosis  Sms_Reminder  AwaitingTime  AppointmenTime  \n",
       "0            0             0             0      0.929471        0.527778  \n",
       "1            0             0             0      1.000000        0.066468  \n",
       "2            0             0             0      1.000000        0.415675  \n",
       "3            0             0             1      0.964736        0.662698  \n",
       "4            0             0             1      0.987406        0.561508  "
      ]
     },
     "execution_count": 51,
     "metadata": {},
     "output_type": "execute_result"
    }
   ],
   "source": [
    "ma.head()"
   ]
  },
  {
   "cell_type": "code",
   "execution_count": 52,
   "metadata": {
    "collapsed": false
   },
   "outputs": [
    {
     "data": {
      "text/html": [
       "<div>\n",
       "<table border=\"1\" class=\"dataframe\">\n",
       "  <thead>\n",
       "    <tr style=\"text-align: right;\">\n",
       "      <th></th>\n",
       "      <th>Age</th>\n",
       "      <th>Gender</th>\n",
       "      <th>DayOfTheWeek</th>\n",
       "      <th>Status</th>\n",
       "      <th>Diabetes</th>\n",
       "      <th>Alcoolism</th>\n",
       "      <th>HiperTension</th>\n",
       "      <th>Handcap</th>\n",
       "      <th>Smokes</th>\n",
       "      <th>Scholarship</th>\n",
       "      <th>Tuberculosis</th>\n",
       "      <th>Sms_Reminder</th>\n",
       "      <th>AwaitingTime</th>\n",
       "      <th>AppointmenTime</th>\n",
       "    </tr>\n",
       "  </thead>\n",
       "  <tbody>\n",
       "    <tr>\n",
       "      <th>count</th>\n",
       "      <td>300000.000000</td>\n",
       "      <td>300000.000000</td>\n",
       "      <td>300000.000000</td>\n",
       "      <td>300000.000000</td>\n",
       "      <td>300000.000000</td>\n",
       "      <td>300000.000000</td>\n",
       "      <td>300000.000000</td>\n",
       "      <td>300000.000000</td>\n",
       "      <td>300000.000000</td>\n",
       "      <td>300000.000000</td>\n",
       "      <td>300000.000000</td>\n",
       "      <td>300000.000000</td>\n",
       "      <td>300000.000000</td>\n",
       "      <td>300000.000000</td>\n",
       "    </tr>\n",
       "    <tr>\n",
       "      <th>mean</th>\n",
       "      <td>0.346157</td>\n",
       "      <td>0.331650</td>\n",
       "      <td>3.326650</td>\n",
       "      <td>0.697563</td>\n",
       "      <td>0.077967</td>\n",
       "      <td>0.025010</td>\n",
       "      <td>0.215890</td>\n",
       "      <td>0.020523</td>\n",
       "      <td>0.052370</td>\n",
       "      <td>0.096897</td>\n",
       "      <td>0.000450</td>\n",
       "      <td>0.574173</td>\n",
       "      <td>0.967653</td>\n",
       "      <td>0.349019</td>\n",
       "    </tr>\n",
       "    <tr>\n",
       "      <th>std</th>\n",
       "      <td>0.198339</td>\n",
       "      <td>0.470807</td>\n",
       "      <td>2.283518</td>\n",
       "      <td>0.459314</td>\n",
       "      <td>0.268120</td>\n",
       "      <td>0.156156</td>\n",
       "      <td>0.411439</td>\n",
       "      <td>0.155934</td>\n",
       "      <td>0.222772</td>\n",
       "      <td>0.295818</td>\n",
       "      <td>0.021208</td>\n",
       "      <td>0.499826</td>\n",
       "      <td>0.039516</td>\n",
       "      <td>0.192342</td>\n",
       "    </tr>\n",
       "    <tr>\n",
       "      <th>min</th>\n",
       "      <td>0.000000</td>\n",
       "      <td>0.000000</td>\n",
       "      <td>0.000000</td>\n",
       "      <td>0.000000</td>\n",
       "      <td>0.000000</td>\n",
       "      <td>0.000000</td>\n",
       "      <td>0.000000</td>\n",
       "      <td>0.000000</td>\n",
       "      <td>0.000000</td>\n",
       "      <td>0.000000</td>\n",
       "      <td>0.000000</td>\n",
       "      <td>0.000000</td>\n",
       "      <td>0.000000</td>\n",
       "      <td>0.000000</td>\n",
       "    </tr>\n",
       "    <tr>\n",
       "      <th>25%</th>\n",
       "      <td>0.182609</td>\n",
       "      <td>0.000000</td>\n",
       "      <td>1.000000</td>\n",
       "      <td>0.000000</td>\n",
       "      <td>0.000000</td>\n",
       "      <td>0.000000</td>\n",
       "      <td>0.000000</td>\n",
       "      <td>0.000000</td>\n",
       "      <td>0.000000</td>\n",
       "      <td>0.000000</td>\n",
       "      <td>0.000000</td>\n",
       "      <td>0.000000</td>\n",
       "      <td>0.952141</td>\n",
       "      <td>0.181548</td>\n",
       "    </tr>\n",
       "    <tr>\n",
       "      <th>50%</th>\n",
       "      <td>0.347826</td>\n",
       "      <td>0.000000</td>\n",
       "      <td>4.000000</td>\n",
       "      <td>1.000000</td>\n",
       "      <td>0.000000</td>\n",
       "      <td>0.000000</td>\n",
       "      <td>0.000000</td>\n",
       "      <td>0.000000</td>\n",
       "      <td>0.000000</td>\n",
       "      <td>0.000000</td>\n",
       "      <td>0.000000</td>\n",
       "      <td>1.000000</td>\n",
       "      <td>0.982368</td>\n",
       "      <td>0.310516</td>\n",
       "    </tr>\n",
       "    <tr>\n",
       "      <th>75%</th>\n",
       "      <td>0.504348</td>\n",
       "      <td>1.000000</td>\n",
       "      <td>5.000000</td>\n",
       "      <td>1.000000</td>\n",
       "      <td>0.000000</td>\n",
       "      <td>0.000000</td>\n",
       "      <td>0.000000</td>\n",
       "      <td>0.000000</td>\n",
       "      <td>0.000000</td>\n",
       "      <td>0.000000</td>\n",
       "      <td>0.000000</td>\n",
       "      <td>1.000000</td>\n",
       "      <td>0.992443</td>\n",
       "      <td>0.513889</td>\n",
       "    </tr>\n",
       "    <tr>\n",
       "      <th>max</th>\n",
       "      <td>1.000000</td>\n",
       "      <td>1.000000</td>\n",
       "      <td>6.000000</td>\n",
       "      <td>1.000000</td>\n",
       "      <td>1.000000</td>\n",
       "      <td>1.000000</td>\n",
       "      <td>1.000000</td>\n",
       "      <td>4.000000</td>\n",
       "      <td>1.000000</td>\n",
       "      <td>1.000000</td>\n",
       "      <td>1.000000</td>\n",
       "      <td>2.000000</td>\n",
       "      <td>1.000000</td>\n",
       "      <td>1.000000</td>\n",
       "    </tr>\n",
       "  </tbody>\n",
       "</table>\n",
       "</div>"
      ],
      "text/plain": [
       "                 Age         Gender   DayOfTheWeek         Status  \\\n",
       "count  300000.000000  300000.000000  300000.000000  300000.000000   \n",
       "mean        0.346157       0.331650       3.326650       0.697563   \n",
       "std         0.198339       0.470807       2.283518       0.459314   \n",
       "min         0.000000       0.000000       0.000000       0.000000   \n",
       "25%         0.182609       0.000000       1.000000       0.000000   \n",
       "50%         0.347826       0.000000       4.000000       1.000000   \n",
       "75%         0.504348       1.000000       5.000000       1.000000   \n",
       "max         1.000000       1.000000       6.000000       1.000000   \n",
       "\n",
       "            Diabetes      Alcoolism   HiperTension        Handcap  \\\n",
       "count  300000.000000  300000.000000  300000.000000  300000.000000   \n",
       "mean        0.077967       0.025010       0.215890       0.020523   \n",
       "std         0.268120       0.156156       0.411439       0.155934   \n",
       "min         0.000000       0.000000       0.000000       0.000000   \n",
       "25%         0.000000       0.000000       0.000000       0.000000   \n",
       "50%         0.000000       0.000000       0.000000       0.000000   \n",
       "75%         0.000000       0.000000       0.000000       0.000000   \n",
       "max         1.000000       1.000000       1.000000       4.000000   \n",
       "\n",
       "              Smokes    Scholarship   Tuberculosis   Sms_Reminder  \\\n",
       "count  300000.000000  300000.000000  300000.000000  300000.000000   \n",
       "mean        0.052370       0.096897       0.000450       0.574173   \n",
       "std         0.222772       0.295818       0.021208       0.499826   \n",
       "min         0.000000       0.000000       0.000000       0.000000   \n",
       "25%         0.000000       0.000000       0.000000       0.000000   \n",
       "50%         0.000000       0.000000       0.000000       1.000000   \n",
       "75%         0.000000       0.000000       0.000000       1.000000   \n",
       "max         1.000000       1.000000       1.000000       2.000000   \n",
       "\n",
       "        AwaitingTime  AppointmenTime  \n",
       "count  300000.000000   300000.000000  \n",
       "mean        0.967653        0.349019  \n",
       "std         0.039516        0.192342  \n",
       "min         0.000000        0.000000  \n",
       "25%         0.952141        0.181548  \n",
       "50%         0.982368        0.310516  \n",
       "75%         0.992443        0.513889  \n",
       "max         1.000000        1.000000  "
      ]
     },
     "execution_count": 52,
     "metadata": {},
     "output_type": "execute_result"
    }
   ],
   "source": [
    "ma.describe()"
   ]
  },
  {
   "cell_type": "markdown",
   "metadata": {},
   "source": [
    "<!-- TEASER_END -->"
   ]
  },
  {
   "cell_type": "code",
   "execution_count": 53,
   "metadata": {
    "collapsed": true
   },
   "outputs": [],
   "source": [
    "drop = ['Status','AppointmentRegistration','ApointmentData']\n",
    "def predict_left(df, clf, test_size=0.2):\n",
    "    X = df.drop(drop,1)\n",
    "    y = df.Status \n",
    "    X_train, X_test, y_train, y_test = train_test_split(X, y, test_size=test_size)\n",
    "    \n",
    "    \n",
    "    clf.fit(X_train, y_train)\n",
    "    \n",
    "    train_pred = clf.predict(X_train)\n",
    "    test_pred = clf.predict(X_test)\n",
    "    print('Training Score: {:.3f}'.format(clf.score(X_train, y_train)))\n",
    "    print('Testing Score: %.3f' % (clf.score(X_test, y_test)))\n",
    "    \n",
    "    print()"
   ]
  },
  {
   "cell_type": "code",
   "execution_count": null,
   "metadata": {
    "collapsed": true
   },
   "outputs": [],
   "source": []
  },
  {
   "cell_type": "code",
   "execution_count": null,
   "metadata": {
    "collapsed": false
   },
   "outputs": [
    {
     "name": "stdout",
     "output_type": "stream",
     "text": [
      "Classifier  0\n",
      "Training Score: 0.754\n",
      "Testing Score: 0.645\n",
      "\n",
      "Classifier  1\n",
      "Training Score: 0.980\n",
      "Testing Score: 0.625\n",
      "\n",
      "Classifier  2\n",
      "Training Score: 0.980\n",
      "Testing Score: 0.625\n",
      "\n",
      "Classifier  3\n",
      "Training Score: 0.558\n",
      "Testing Score: 0.562\n",
      "\n",
      "Classifier  4\n",
      "Training Score: 0.698\n",
      "Testing Score: 0.698\n",
      "\n",
      "Classifier  5\n",
      "Training Score: 0.698\n",
      "Testing Score: 0.698\n",
      "\n",
      "Classifier  6\n",
      "Training Score: 0.697\n",
      "Testing Score: 0.698\n",
      "\n"
     ]
    }
   ],
   "source": [
    "# Random Forest is bad at this, and K-NN is good but slow\n",
    "classifiers = [neighbors.KNeighborsClassifier(n_jobs=-1), RandomForestClassifier(class_weight='balanced',n_jobs=-1), RandomForestClassifier(class_weight='balanced', criterion='entropy', n_jobs=-1),LogisticRegressionCV(class_weight='balanced', n_jobs=-1), AdaBoostClassifier(),xgb.XGBClassifier(nthread=-1), MultinomialNB()]#, neighbors.KNeighborsClassifier(n_jobs=-1)] #svm.SVC(), GradientBoostingClassifier(),  neighbors.KNeighborsClassifier(n_jobs=-1)], RandomForestClassifier(n_jobs=-1), RandomForestClassifier(criterion='entropy', n_jobs=-1),\n",
    "# classifiers = [RandomForestClassifier(n_estimators=500 ,n_jobs=-1), RandomForestClassifier(n_estimators=500, criterion='entropy', n_jobs=-1), xgb.XGBClassifier(n_estimators=500, nthread=-1)]# svm.SVC()]\n",
    "\n",
    "for i, clf in enumerate(classifiers):\n",
    "    print('Classifier ', i)\n",
    "    \n",
    "    predict_left(ma, clf)"
   ]
  },
  {
   "cell_type": "code",
   "execution_count": null,
   "metadata": {
    "collapsed": false
   },
   "outputs": [],
   "source": [
    "def cross_val_left(df, clf, cv_folds=CV_FOLDS, drop=drop):\n",
    "    X = df.drop(drop, 1)#, 'sales', 'salary'],1)\n",
    "    y = df.Status \n",
    "    scores = cross_val_score(clf, X, y, cv=cv_folds, n_jobs=-1)\n",
    "    \n",
    "    \n",
    "    \n",
    "    print('Cross val score: ', sum(scores) / cv_folds )\n",
    "    print(scores)\n",
    "    \n",
    "    print()\n",
    "    "
   ]
  },
  {
   "cell_type": "code",
   "execution_count": null,
   "metadata": {
    "collapsed": false
   },
   "outputs": [],
   "source": [
    "classifiers = [xgb.XGBClassifier(n_estimators=500, nthread=-1), LogisticRegressionCV(class_weight='balanced', n_jobs=-1), AdaBoostClassifier(n_estimators=500), MultinomialNB()]#} RandomForestClassifier(n_estimators=500 ,n_jobs=-1), RandomForestClassifier(n_estimators=500, criterion='entropy', n_jobs=-1)]#, svm.SVC()]#]# svm.SVC()]\n",
    "\n",
    "for i, clf in enumerate(classifiers):\n",
    "    print('Classifier ', i)\n",
    "    \n",
    "    cross_val_left(ma, clf)"
   ]
  },
  {
   "cell_type": "code",
   "execution_count": 21,
   "metadata": {
    "collapsed": false
   },
   "outputs": [
    {
     "name": "stdout",
     "output_type": "stream",
     "text": [
      "Index(['Age', 'Gender', 'DayOfTheWeek', 'Diabetes', 'Alcoolism',\n",
      "       'HiperTension', 'Handcap', 'Smokes', 'Scholarship', 'Tuberculosis',\n",
      "       'Sms_Reminder', 'AwaitingTime'],\n",
      "      dtype='object')\n"
     ]
    },
    {
     "data": {
      "text/plain": [
       "array([ 0.33168775,  0.02992903,  0.08546745,  0.01542734,  0.01481024,\n",
       "        0.01758716,  0.04072817,  0.01758716,  0.01727862,  0.0046282 ,\n",
       "        0.05399568,  0.37087318], dtype=float32)"
      ]
     },
     "execution_count": 21,
     "metadata": {},
     "output_type": "execute_result"
    }
   ],
   "source": [
    "clf = xgb.XGBClassifier(n_estimators=500, nthread=-1)\n",
    "X = ma.drop(drop,1)\n",
    "y = ma.Status \n",
    "X_train, X_test, y_train, y_test = train_test_split(X, y, test_size=0.2)\n",
    "    \n",
    "    \n",
    "clf.fit(X_train, y_train)\n",
    "print(X.columns)\n",
    "clf.feature_importances_\n",
    "# Drop all lower than 0.01 relevance"
   ]
  },
  {
   "cell_type": "code",
   "execution_count": null,
   "metadata": {
    "collapsed": false
   },
   "outputs": [],
   "source": []
  },
  {
   "cell_type": "code",
   "execution_count": 23,
   "metadata": {
    "collapsed": false
   },
   "outputs": [],
   "source": [
    "# Dropping all with <0.01 relevance seems to not affect score much (.9920->.9916)\n",
    "drop = ['left', 'promotion_last_5years', 'Work_accident', 'sales', 'salary']\n",
    "for i, clf in enumerate(classifiers):\n",
    "    print('Classifier ', i)\n",
    "    \n",
    "    cross_val_left(hr, clf, drop=drop)"
   ]
  },
  {
   "cell_type": "code",
   "execution_count": 56,
   "metadata": {
    "collapsed": false
   },
   "outputs": [
    {
     "data": {
      "text/plain": [
       "Age               0.099814\n",
       "Gender           -0.011546\n",
       "DayOfTheWeek      0.019352\n",
       "Status            1.000000\n",
       "Diabetes          0.031073\n",
       "Alcoolism        -0.025459\n",
       "HiperTension      0.059053\n",
       "Handcap           0.006613\n",
       "Smokes           -0.024055\n",
       "Scholarship      -0.041030\n",
       "Tuberculosis     -0.003823\n",
       "Sms_Reminder      0.000164\n",
       "AwaitingTime      0.066790\n",
       "AppointmenTime   -0.028790\n",
       "Name: Status, dtype: float64"
      ]
     },
     "execution_count": 56,
     "metadata": {},
     "output_type": "execute_result"
    }
   ],
   "source": [
    "ma.corr()[\"Status\"]"
   ]
  },
  {
   "cell_type": "code",
   "execution_count": 20,
   "metadata": {
    "collapsed": false
   },
   "outputs": [
    {
     "name": "stdout",
     "output_type": "stream",
     "text": [
      "Classifier  0\n",
      "Cross val score:  0.991866310918\n",
      "[ 0.99833389  0.98133333  0.98666667  0.99866622  0.99433144]\n",
      "\n",
      "Classifier  1\n",
      "Cross val score:  0.991666266474\n",
      "[ 0.99866711  0.981       0.986       0.99833278  0.99433144]\n",
      "\n"
     ]
    }
   ],
   "source": [
    "# Drop everything with corr to left of < 0.005\n",
    "# Makes it worse\n",
    "drop = ['left',  'sales', 'salary']\n",
    "classifiers = [RandomForestClassifier(n_estimators=500 ,n_jobs=-1), RandomForestClassifier(n_estimators=500, criterion='entropy', n_jobs=-1)]#, svm.SVC()]#xgb.XGBClassifier(n_estimators=500, nthread=-1)]# svm.SVC()]\n",
    "\n",
    "for i, clf in enumerate(classifiers):\n",
    "    print('Classifier ', i)\n",
    "    \n",
    "    cross_val_left(hr, clf, drop=drop)"
   ]
  },
  {
   "cell_type": "code",
   "execution_count": 35,
   "metadata": {
    "collapsed": false
   },
   "outputs": [
    {
     "data": {
      "text/plain": [
       "Index(['Age', 'Gender', 'AppointmentRegistration', 'ApointmentData',\n",
       "       'DayOfTheWeek', 'Status', 'Diabetes', 'Alcoolism', 'HiperTension',\n",
       "       'Handcap', 'Smokes', 'Scholarship', 'Tuberculosis', 'Sms_Reminder',\n",
       "       'AwaitingTime'],\n",
       "      dtype='object')"
      ]
     },
     "execution_count": 35,
     "metadata": {},
     "output_type": "execute_result"
    }
   ],
   "source": [
    "ma.columns"
   ]
  },
  {
   "cell_type": "code",
   "execution_count": 57,
   "metadata": {
    "collapsed": false
   },
   "outputs": [
    {
     "name": "stdout",
     "output_type": "stream",
     "text": [
      "[ True False  True False False False False False False False  True  True\n",
      "  True]\n",
      "[1 3 1 7 6 5 2 8 4 9 1 1 1]\n"
     ]
    }
   ],
   "source": [
    "from sklearn.feature_selection import RFE\n",
    "model = xgb.XGBClassifier(n_estimators=500, nthread=-1)#RandomForestClassifier(n_estimators=500, n_jobs=-1)\n",
    "clf = RFE(model,5 )\n",
    "\n",
    "X = ma.drop(drop,1)\n",
    "y = ma.Status \n",
    "X_train, X_test, y_train, y_test = train_test_split(X, y, test_size=0.2)\n",
    "    \n",
    "    \n",
    "clf.fit(X_train, y_train)\n",
    "print(clf.support_)\n",
    "print(clf.ranking_)\n",
    "# Gets same result as feature_importance, which makes sense"
   ]
  },
  {
   "cell_type": "code",
   "execution_count": 58,
   "metadata": {
    "collapsed": false
   },
   "outputs": [
    {
     "name": "stdout",
     "output_type": "stream",
     "text": [
      "[ True False False False  True False False  True False False False  True\n",
      "  True]\n",
      "[1 9 8 6 1 5 7 1 2 3 4 1 1]\n"
     ]
    }
   ],
   "source": [
    "# from sklearn.feature_selection import RFE\n",
    "model = LogisticRegression()\n",
    "clf = RFE(model,5 )\n",
    "\n",
    "X = ma.drop(drop,1)\n",
    "y = ma.Status \n",
    "X_train, X_test, y_train, y_test = train_test_split(X, y, test_size=0.2)\n",
    "    \n",
    "    \n",
    "clf.fit(X_train, y_train)\n",
    "print(clf.support_)\n",
    "print(clf.ranking_)\n",
    "# Gets same result as feature_importance"
   ]
  },
  {
   "cell_type": "code",
   "execution_count": 18,
   "metadata": {
    "collapsed": true
   },
   "outputs": [],
   "source": [
    "# PCA on relevant features\n",
    "# drop = ['left',  'sales', 'salary']\n",
    "\n",
    "y = np.array(ma.Status)\n",
    "\n",
    "X = np.array(ma.drop(drop,1))\n",
    "pca = PCA(n_components=2).fit(X)\n",
    "X_pca = pca.transform(X)"
   ]
  },
  {
   "cell_type": "code",
   "execution_count": 19,
   "metadata": {
    "collapsed": false
   },
   "outputs": [
    {
     "name": "stdout",
     "output_type": "stream",
     "text": [
      "[[  1.42543185e-04   6.34551710e-04  -9.99974299e-01   3.58192477e-04\n",
      "    3.10766391e-04   4.41535707e-04  -1.13743339e-04   2.58151421e-04\n",
      "    1.59869246e-04   1.14964135e-05   7.08346651e-03  -3.73062762e-04\n",
      "   -3.73305533e-04]\n",
      " [ -5.14356713e-02  -1.87878101e-01   6.63230228e-03  -6.51214400e-02\n",
      "   -1.65047835e-02  -1.52563258e-01  -1.41486401e-02  -1.67049001e-02\n",
      "    3.72909682e-02  -3.31822157e-04   9.65208099e-01  -1.86683239e-02\n",
      "   -1.94499798e-02]]\n"
     ]
    }
   ],
   "source": [
    "print(pca.components_)"
   ]
  },
  {
   "cell_type": "code",
   "execution_count": 20,
   "metadata": {
    "collapsed": false
   },
   "outputs": [
    {
     "name": "stdout",
     "output_type": "stream",
     "text": [
      "[ 0.84226544  0.04093448]\n",
      "0.883199917187\n"
     ]
    }
   ],
   "source": [
    "print(pca.explained_variance_ratio_)\n",
    "print(sum(pca.explained_variance_ratio_))"
   ]
  },
  {
   "cell_type": "code",
   "execution_count": 11,
   "metadata": {
    "collapsed": false
   },
   "outputs": [
    {
     "ename": "NameError",
     "evalue": "name 'X_pca' is not defined",
     "output_type": "error",
     "traceback": [
      "\u001b[0;31m---------------------------------------------------------------------------\u001b[0m",
      "\u001b[0;31mNameError\u001b[0m                                 Traceback (most recent call last)",
      "\u001b[0;32m<ipython-input-11-7f712dadfd87>\u001b[0m in \u001b[0;36m<module>\u001b[0;34m()\u001b[0m\n\u001b[1;32m      3\u001b[0m \u001b[0my\u001b[0m \u001b[0;34m=\u001b[0m \u001b[0mnp\u001b[0m\u001b[0;34m.\u001b[0m\u001b[0marray\u001b[0m\u001b[0;34m(\u001b[0m\u001b[0mma\u001b[0m\u001b[0;34m.\u001b[0m\u001b[0mStatus\u001b[0m\u001b[0;34m)\u001b[0m\u001b[0;34m\u001b[0m\u001b[0m\n\u001b[1;32m      4\u001b[0m \u001b[0;34m\u001b[0m\u001b[0m\n\u001b[0;32m----> 5\u001b[0;31m \u001b[0mscores\u001b[0m \u001b[0;34m=\u001b[0m \u001b[0mcross_val_score\u001b[0m\u001b[0;34m(\u001b[0m\u001b[0mclf\u001b[0m\u001b[0;34m,\u001b[0m \u001b[0mX_pca\u001b[0m\u001b[0;34m,\u001b[0m \u001b[0my\u001b[0m\u001b[0;34m,\u001b[0m \u001b[0mcv\u001b[0m\u001b[0;34m=\u001b[0m\u001b[0mCV_FOLDS\u001b[0m\u001b[0;34m,\u001b[0m \u001b[0mn_jobs\u001b[0m\u001b[0;34m=\u001b[0m\u001b[0;34m-\u001b[0m\u001b[0;36m1\u001b[0m\u001b[0;34m)\u001b[0m\u001b[0;34m\u001b[0m\u001b[0m\n\u001b[0m\u001b[1;32m      6\u001b[0m \u001b[0;34m\u001b[0m\u001b[0m\n\u001b[1;32m      7\u001b[0m \u001b[0;34m\u001b[0m\u001b[0m\n",
      "\u001b[0;31mNameError\u001b[0m: name 'X_pca' is not defined"
     ]
    }
   ],
   "source": [
    "# Still get good same accuracy, ~69.7%\n",
    "clf = LogisticRegressionCV(class_weight='balanced', n_jobs=-1)\n",
    "y = np.array(ma.Status) \n",
    "\n",
    "scores = cross_val_score(clf, X_pca, y, cv=CV_FOLDS, n_jobs=-1)\n",
    "    \n",
    "    \n",
    "    \n",
    "print('Cross val score: ', sum(scores) / CV_FOLDS )\n",
    "print(scores)"
   ]
  },
  {
   "cell_type": "code",
   "execution_count": 22,
   "metadata": {
    "collapsed": false
   },
   "outputs": [
    {
     "data": {
      "image/png": "[encoded data removed]",
      "text/plain": [
       "<matplotlib.figure.Figure at 0x7ff6a2aeeef0>"
      ]
     },
     "metadata": {},
     "output_type": "display_data"
    }
   ],
   "source": [
    "colors = cycle('rb')\n",
    "target_ids = range(2)\n",
    "plt.figure()\n",
    "for i, c, label in zip(target_ids, colors, [\"Missed\",\"Kept\"]):\n",
    "    plt.scatter(X_pca[y == i, 0], X_pca[y == i, 1],\n",
    "                c=c, label=label)\n",
    "plt.legend()\n",
    "plt.show()"
   ]
  },
  {
   "cell_type": "code",
   "execution_count": null,
   "metadata": {
    "collapsed": false
   },
   "outputs": [],
   "source": []
  },
  {
   "cell_type": "code",
   "execution_count": null,
   "metadata": {
    "collapsed": false
   },
   "outputs": [],
   "source": []
  },
  {
   "cell_type": "code",
   "execution_count": null,
   "metadata": {
    "collapsed": false
   },
   "outputs": [],
   "source": []
  },
  {
   "cell_type": "code",
   "execution_count": null,
   "metadata": {
    "collapsed": false
   },
   "outputs": [],
   "source": []
  },
  {
   "cell_type": "code",
   "execution_count": 23,
   "metadata": {
    "collapsed": false
   },
   "outputs": [
    {
     "name": "stderr",
     "output_type": "stream",
     "text": [
      "/home/altock/anaconda3/envs/py35/lib/python3.5/site-packages/matplotlib/collections.py:865: RuntimeWarning: invalid value encountered in sqrt\n",
      "  scale = np.sqrt(self._sizes) * dpi / 72.0 * self._factor\n"
     ]
    },
    {
     "data": {
      "image/png": "[encoded data removed]",
      "text/plain": [
       "<matplotlib.figure.Figure at 0x7ff6a2adbb00>"
      ]
     },
     "metadata": {},
     "output_type": "display_data"
    }
   ],
   "source": [
    "# 3D PCA, Clear plane difference between them\n",
    "# drop = ['left',  'sales', 'salary']\n",
    "\n",
    "y = np.array(ma.Status)\n",
    "\n",
    "X = np.array(ma.drop(drop,1))\n",
    "pca = PCA(n_components=3).fit(X)\n",
    "X_pca = pca.transform(X)\n",
    "\n",
    "colors = cycle('rb')\n",
    "target_ids = range(2)\n",
    "fig = plt.figure()\n",
    "ax = fig.add_subplot(111, projection='3d')\n",
    "for i, c, label in zip(target_ids, colors, [\"Missed\", \"Kept\"]):\n",
    "    plt.scatter(X_pca[y == i, 0], X_pca[y == i, 1],X_pca[y == i, 2],\n",
    "                c=c, label=label)\n",
    "    \n",
    "ax.set_xlabel('X Label')\n",
    "ax.set_ylabel('Y Label')\n",
    "ax.set_zlabel('Z Label')\n",
    "    \n",
    "plt.legend()\n",
    "plt.show()"
   ]
  },
  {
   "cell_type": "code",
   "execution_count": 45,
   "metadata": {
    "collapsed": false
   },
   "outputs": [
    {
     "name": "stdout",
     "output_type": "stream",
     "text": [
      "Cross val score:  0.610186671734\n",
      "[ 0.6078565357  0.6097166667  0.6131833333  0.6108        0.6093768229]\n"
     ]
    }
   ],
   "source": [
    "# 3D accuracy is the same as 2D\n",
    "clf = RandomForestClassifier(class_weight='balanced',n_jobs=-1)#LogisticRegressionCV(class_weight='balanced', n_jobs=-1)\n",
    "y = ma.Status \n",
    "\n",
    "scores = cross_val_score(clf, X_pca, y, cv=CV_FOLDS, n_jobs=-1)\n",
    "    \n",
    "    \n",
    "    \n",
    "print('Cross val score: ', sum(scores) / CV_FOLDS )\n",
    "print(scores)"
   ]
  },
  {
   "cell_type": "code",
   "execution_count": null,
   "metadata": {
    "collapsed": false
   },
   "outputs": [],
   "source": [
    "clf = svm.SVC(class_weight='balanced')#LogisticRegression(class_weight='balanced', n_jobs=-1)\n",
    "X = ma.drop(drop,1)\n",
    "y = ma.Status \n",
    "X_train, X_test, y_train, y_test = train_test_split(X, y, test_size=0.2)\n",
    "    \n",
    "    \n",
    "clf.fit(X_train, y_train)\n",
    "y_pred = clf.predict(X_test)\n",
    "print(accuracy_score(y_pred, y_test))"
   ]
  },
  {
   "cell_type": "code",
   "execution_count": 14,
   "metadata": {
    "collapsed": false
   },
   "outputs": [
    {
     "name": "stdout",
     "output_type": "stream",
     "text": [
      "             precision    recall  f1-score   support\n",
      "\n",
      "    No-Show       0.35      0.19      0.25     17963\n",
      "    Show-Up       0.71      0.85      0.77     42037\n",
      "\n",
      "avg / total       0.60      0.65      0.62     60000\n",
      "\n"
     ]
    }
   ],
   "source": [
    "\n",
    "class_names = [\"No-Show\",\"Show-Up\"]\n",
    "print(classification_report(y_test,y_pred, target_names=class_names))"
   ]
  },
  {
   "cell_type": "code",
   "execution_count": 15,
   "metadata": {
    "collapsed": false
   },
   "outputs": [
    {
     "data": {
      "image/png": "[encoded data removed]",
      "text/plain": [
       "<matplotlib.figure.Figure at 0x7f0a8380d2b0>"
      ]
     },
     "metadata": {},
     "output_type": "display_data"
    }
   ],
   "source": [
    "def plot_confusion_matrix(cm, classes,\n",
    "                          title='Confusion matrix',\n",
    "                          cmap=plt.cm.Blues):\n",
    "    \n",
    "    plt.imshow(cm, interpolation='nearest', cmap=cmap)\n",
    "    plt.title(title)\n",
    "    plt.colorbar()\n",
    "    tick_marks = np.arange(len(classes))\n",
    "    plt.xticks(tick_marks, classes, rotation=45)\n",
    "    plt.yticks(tick_marks, classes)\n",
    "\n",
    "    thresh = cm.max() / 2.\n",
    "    for i, j in itertools.product(range(cm.shape[0]), range(cm.shape[1])):\n",
    "        plt.text(j, i, cm[i, j],\n",
    "                 horizontalalignment=\"center\",\n",
    "                 color=\"white\" if cm[i, j] > thresh else \"black\")\n",
    "\n",
    "    plt.tight_layout()\n",
    "    plt.ylabel('True label')\n",
    "    plt.xlabel('Predicted label')\n",
    "\n",
    "    \n",
    "    \n",
    "# Compute confusion matrix\n",
    "cnf_matrix = confusion_matrix(y_test, y_pred)\n",
    "np.set_printoptions(precision=10)\n",
    "\n",
    "\n",
    "plot_confusion_matrix(cnf_matrix, classes=class_names,\n",
    "                      title='Confusion matrix')\n",
    "\n",
    "\n",
    "plt.show()"
   ]
  },
  {
   "cell_type": "code",
   "execution_count": null,
   "metadata": {
    "collapsed": false
   },
   "outputs": [],
   "source": [
    "print(classification_report(y_test,y_pred, target_names=class_names))"
   ]
  },
  {
   "cell_type": "code",
   "execution_count": 23,
   "metadata": {
    "collapsed": false
   },
   "outputs": [
    {
     "data": {
      "text/plain": [
       "Index(['Age', 'Gender', 'AppointmentRegistration', 'ApointmentData',\n",
       "       'DayOfTheWeek', 'Status', 'Diabetes', 'Alcoolism', 'HiperTension',\n",
       "       'Handcap', 'Smokes', 'Scholarship', 'Tuberculosis', 'Sms_Reminder',\n",
       "       'AwaitingTime', 'AppointmenTime'],\n",
       "      dtype='object')"
      ]
     },
     "execution_count": 23,
     "metadata": {},
     "output_type": "execute_result"
    }
   ],
   "source": [
    "ma.columns"
   ]
  },
  {
   "cell_type": "code",
   "execution_count": 35,
   "metadata": {
    "collapsed": false
   },
   "outputs": [
    {
     "data": {
      "image/png": "[encoded data removed]",
      "text/plain": [
       "<matplotlib.figure.Figure at 0x7f0a8209ce10>"
      ]
     },
     "metadata": {},
     "output_type": "display_data"
    }
   ],
   "source": [
    "percentageLeft = []\n",
    "week = list(range(7))\n",
    "\n",
    "for i in week:\n",
    "    day = ma[ma.DayOfTheWeek == i]\n",
    "    percentageLeft.append(np.sum(day.Status == 0) / len(day.Status) * 100)\n",
    "    \n",
    "plt.bar(week, percentageLeft)\n",
    "plt.show()"
   ]
  },
  {
   "cell_type": "code",
   "execution_count": 44,
   "metadata": {
    "collapsed": false
   },
   "outputs": [
    {
     "data": {
      "image/png": "[encoded data removed]",
      "text/plain": [
       "<matplotlib.figure.Figure at 0x7f0a82005d30>"
      ]
     },
     "metadata": {},
     "output_type": "display_data"
    },
    {
     "data": {
      "image/png": "[encoded data removed]",
      "text/plain": [
       "<matplotlib.figure.Figure at 0x7f0a7b870550>"
      ]
     },
     "metadata": {},
     "output_type": "display_data"
    },
    {
     "data": {
      "image/png": "[encoded data removed]",
      "text/plain": [
       "<matplotlib.figure.Figure at 0x7f0a7b817cc0>"
      ]
     },
     "metadata": {},
     "output_type": "display_data"
    },
    {
     "data": {
      "image/png": "[encoded data removed]",
      "text/plain": [
       "<matplotlib.figure.Figure at 0x7f0a7b817d68>"
      ]
     },
     "metadata": {},
     "output_type": "display_data"
    },
    {
     "data": {
      "image/png": "[encoded data removed]",
      "text/plain": [
       "<matplotlib.figure.Figure at 0x7f0a7b817c88>"
      ]
     },
     "metadata": {},
     "output_type": "display_data"
    },
    {
     "data": {
      "image/png": "[encoded data removed]",
      "text/plain": [
       "<matplotlib.figure.Figure at 0x7f0a7d3b4160>"
      ]
     },
     "metadata": {},
     "output_type": "display_data"
    },
    {
     "data": {
      "image/png": "[encoded data removed]",
      "text/plain": [
       "<matplotlib.figure.Figure at 0x7f0a7d2ff358>"
      ]
     },
     "metadata": {},
     "output_type": "display_data"
    },
    {
     "data": {
      "image/png": "[encoded data removed]",
      "text/plain": [
       "<matplotlib.figure.Figure at 0x7f0a7d263828>"
      ]
     },
     "metadata": {},
     "output_type": "display_data"
    },
    {
     "data": {
      "image/png": "[encoded data removed]",
      "text/plain": [
       "<matplotlib.figure.Figure at 0x7f0a7d258f28>"
      ]
     },
     "metadata": {},
     "output_type": "display_data"
    },
    {
     "data": {
      "image/png": "[encoded data removed]",
      "text/plain": [
       "<matplotlib.figure.Figure at 0x7f0a7b7c27b8>"
      ]
     },
     "metadata": {},
     "output_type": "display_data"
    },
    {
     "data": {
      "image/png": "[encoded data removed]",
      "text/plain": [
       "<matplotlib.figure.Figure at 0x7f0a7b7baa58>"
      ]
     },
     "metadata": {},
     "output_type": "display_data"
    }
   ],
   "source": [
    "for c in ['Gender', 'Diabetes', 'Alcoolism', 'HiperTension',\n",
    "       'Handcap', 'Smokes', 'Scholarship', 'Tuberculosis', 'Sms_Reminder', \"AwaitingTime\", \"Age\"]:\n",
    "    percentageLeft = []\n",
    "    genders = ma[c].unique()\n",
    "\n",
    "    for i in genders:\n",
    "        sex = ma[ma[c] == i]\n",
    "        percentageLeft.append(np.sum(sex.Status == 0) / len(sex.Status) * 100)\n",
    "    \n",
    "    plt.bar(genders, percentageLeft)\n",
    "    plt.show()"
   ]
  },
  {
   "cell_type": "code",
   "execution_count": null,
   "metadata": {
    "collapsed": true
   },
   "outputs": [],
   "source": []
  }
 ],
 "metadata": {
  "anaconda-cloud": {},
  "kernelspec": {
   "display_name": "Python [conda env:py35]",
   "language": "python",
   "name": "conda-env-py35-py"
  },
  "language_info": {
   "codemirror_mode": {
    "name": "ipython",
    "version": 3
   },
   "file_extension": ".py",
   "mimetype": "text/x-python",
   "name": "python",
   "nbconvert_exporter": "python",
   "pygments_lexer": "ipython3",
   "version": "3.5.3"
  },
  "nikola": {
   "category": "",
   "date": "2017-03-06 21:55:00 UTC-05:00",
   "description": "",
   "link": "",
   "slug": "missed-medical-appointments-exploration",
   "tags": "",
   "title": "Missed Medical Appointments Exploration",
   "type": "text"
  }
 },
 "nbformat": 4,
 "nbformat_minor": 2
}
