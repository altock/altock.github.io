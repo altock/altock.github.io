{
 "cells": [
  {
   "cell_type": "markdown",
   "metadata": {},
   "source": [
    "Write your post here."
   ]
  }
 ],
 "metadata": {
  "kernelspec": {
   "display_name": "Python 3",
   "env": {},
   "language": "python",
   "name": "python3"
  },
  "nikola": {
   "category": "",
   "date": "2017-03-07 11:59:57 UTC-05:00",
   "description": "",
   "link": "",
   "slug": "new-post",
   "tags": "",
   "title": "New Post",
   "type": "text"
  }
 },
 "nbformat": 4,
 "nbformat_minor": 2
}
