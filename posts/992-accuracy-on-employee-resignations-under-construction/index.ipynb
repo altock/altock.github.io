{
 "cells": [
  {
   "cell_type": "markdown",
   "metadata": {},
   "source": [
    "# Classifying whether or not employees are likely to resign"
   ]
  },
  {
   "cell_type": "code",
   "execution_count": 1,
   "metadata": {
    "collapsed": false
   },
   "outputs": [],
   "source": [
    "import pandas as pd\n",
    "import numpy as np\n",
    "\n",
    "from sklearn import  neighbors, svm\n",
    "from sklearn.linear_model import LogisticRegressionCV\n",
    "from sklearn.decomposition import PCA\n",
    "from sklearn.ensemble import RandomForestClassifier, GradientBoostingClassifier,\\\n",
    "    AdaBoostClassifier\n",
    "from sklearn.naive_bayes import MultinomialNB \n",
    "\n",
    "from sklearn.metrics import accuracy_score, mean_squared_error, r2_score,\\\n",
    "    mean_absolute_error, confusion_matrix, classification_report\n",
    "from sklearn.model_selection import cross_val_score, train_test_split,\\\n",
    "    learning_curve\n",
    "from sklearn.feature_selection import RFE\n",
    "\n",
    "%matplotlib inline\n",
    "import matplotlib.pyplot as plt\n",
    "from mpl_toolkits.mplot3d import Axes3D\n",
    "\n",
    "import itertools\n",
    "import pickle\n",
    "\n",
    "DIR_DATA = \"data\"\n",
    "DIR_PROCESSED = \"processed\"\n",
    "CV_FOLDS = 5"
   ]
  },
  {
   "cell_type": "markdown",
   "metadata": {
    "collapsed": true
   },
   "source": [
    "### HR_comma_sep.csv\n",
    "\n",
    "## Features\n",
    "* Employee satisfaction level\n",
    "* Last evaluation\n",
    "* Number of projects\n",
    "* Average monthly hours\n",
    "* Time spent at the company\n",
    "* Whether they have had a work accident\n",
    "* Whether they have had a promotion in the last 5 years\n",
    "* Department\n",
    "* Salary\n",
    "\n",
    "## Target\n",
    "* Whether the employee has left"
   ]
  },
  {
   "cell_type": "code",
   "execution_count": 2,
   "metadata": {
    "collapsed": false
   },
   "outputs": [
    {
     "data": {
      "text/html": [
       "<div>\n",
       "<table border=\"1\" class=\"dataframe\">\n",
       "  <thead>\n",
       "    <tr style=\"text-align: right;\">\n",
       "      <th></th>\n",
       "      <th>satisfaction_level</th>\n",
       "      <th>last_evaluation</th>\n",
       "      <th>number_project</th>\n",
       "      <th>average_montly_hours</th>\n",
       "      <th>time_spend_company</th>\n",
       "      <th>Work_accident</th>\n",
       "      <th>left</th>\n",
       "      <th>promotion_last_5years</th>\n",
       "      <th>sales</th>\n",
       "      <th>salary</th>\n",
       "    </tr>\n",
       "  </thead>\n",
       "  <tbody>\n",
       "    <tr>\n",
       "      <th>0</th>\n",
       "      <td>0.38</td>\n",
       "      <td>0.53</td>\n",
       "      <td>2</td>\n",
       "      <td>157</td>\n",
       "      <td>3</td>\n",
       "      <td>0</td>\n",
       "      <td>1</td>\n",
       "      <td>0</td>\n",
       "      <td>sales</td>\n",
       "      <td>low</td>\n",
       "    </tr>\n",
       "    <tr>\n",
       "      <th>1</th>\n",
       "      <td>0.80</td>\n",
       "      <td>0.86</td>\n",
       "      <td>5</td>\n",
       "      <td>262</td>\n",
       "      <td>6</td>\n",
       "      <td>0</td>\n",
       "      <td>1</td>\n",
       "      <td>0</td>\n",
       "      <td>sales</td>\n",
       "      <td>medium</td>\n",
       "    </tr>\n",
       "    <tr>\n",
       "      <th>2</th>\n",
       "      <td>0.11</td>\n",
       "      <td>0.88</td>\n",
       "      <td>7</td>\n",
       "      <td>272</td>\n",
       "      <td>4</td>\n",
       "      <td>0</td>\n",
       "      <td>1</td>\n",
       "      <td>0</td>\n",
       "      <td>sales</td>\n",
       "      <td>medium</td>\n",
       "    </tr>\n",
       "    <tr>\n",
       "      <th>3</th>\n",
       "      <td>0.72</td>\n",
       "      <td>0.87</td>\n",
       "      <td>5</td>\n",
       "      <td>223</td>\n",
       "      <td>5</td>\n",
       "      <td>0</td>\n",
       "      <td>1</td>\n",
       "      <td>0</td>\n",
       "      <td>sales</td>\n",
       "      <td>low</td>\n",
       "    </tr>\n",
       "    <tr>\n",
       "      <th>4</th>\n",
       "      <td>0.37</td>\n",
       "      <td>0.52</td>\n",
       "      <td>2</td>\n",
       "      <td>159</td>\n",
       "      <td>3</td>\n",
       "      <td>0</td>\n",
       "      <td>1</td>\n",
       "      <td>0</td>\n",
       "      <td>sales</td>\n",
       "      <td>low</td>\n",
       "    </tr>\n",
       "  </tbody>\n",
       "</table>\n",
       "</div>"
      ],
      "text/plain": [
       "   satisfaction_level  last_evaluation  number_project  average_montly_hours  \\\n",
       "0                0.38             0.53               2                   157   \n",
       "1                0.80             0.86               5                   262   \n",
       "2                0.11             0.88               7                   272   \n",
       "3                0.72             0.87               5                   223   \n",
       "4                0.37             0.52               2                   159   \n",
       "\n",
       "   time_spend_company  Work_accident  left  promotion_last_5years  sales  \\\n",
       "0                   3              0     1                      0  sales   \n",
       "1                   6              0     1                      0  sales   \n",
       "2                   4              0     1                      0  sales   \n",
       "3                   5              0     1                      0  sales   \n",
       "4                   3              0     1                      0  sales   \n",
       "\n",
       "   salary  \n",
       "0     low  \n",
       "1  medium  \n",
       "2  medium  \n",
       "3     low  \n",
       "4     low  "
      ]
     },
     "execution_count": 2,
     "metadata": {},
     "output_type": "execute_result"
    }
   ],
   "source": [
    "hr = pd.read_csv(DIR_DATA + '/HR_comma_sep.csv')\n",
    "hr.head()"
   ]
  },
  {
   "cell_type": "code",
   "execution_count": 3,
   "metadata": {
    "collapsed": false
   },
   "outputs": [
    {
     "name": "stdout",
     "output_type": "stream",
     "text": [
      "Percent who left: 23.81\n"
     ]
    }
   ],
   "source": [
    "print('Percent who left: {:.2f}'.format(np.sum(hr.left) / len(hr.left) * 100))"
   ]
  },
  {
   "cell_type": "markdown",
   "metadata": {},
   "source": [
    "Turn sales departments and salary (high/medium/low) into category types so that scikit-learn's algorithms can handle them"
   ]
  },
  {
   "cell_type": "code",
   "execution_count": 4,
   "metadata": {
    "collapsed": false
   },
   "outputs": [
    {
     "data": {
      "text/html": [
       "<div>\n",
       "<table border=\"1\" class=\"dataframe\">\n",
       "  <thead>\n",
       "    <tr style=\"text-align: right;\">\n",
       "      <th></th>\n",
       "      <th>sales</th>\n",
       "      <th>salary</th>\n",
       "    </tr>\n",
       "  </thead>\n",
       "  <tbody>\n",
       "    <tr>\n",
       "      <th>0</th>\n",
       "      <td>7</td>\n",
       "      <td>1</td>\n",
       "    </tr>\n",
       "    <tr>\n",
       "      <th>1</th>\n",
       "      <td>7</td>\n",
       "      <td>2</td>\n",
       "    </tr>\n",
       "    <tr>\n",
       "      <th>2</th>\n",
       "      <td>7</td>\n",
       "      <td>2</td>\n",
       "    </tr>\n",
       "    <tr>\n",
       "      <th>3</th>\n",
       "      <td>7</td>\n",
       "      <td>1</td>\n",
       "    </tr>\n",
       "    <tr>\n",
       "      <th>4</th>\n",
       "      <td>7</td>\n",
       "      <td>1</td>\n",
       "    </tr>\n",
       "  </tbody>\n",
       "</table>\n",
       "</div>"
      ],
      "text/plain": [
       "   sales  salary\n",
       "0      7       1\n",
       "1      7       2\n",
       "2      7       2\n",
       "3      7       1\n",
       "4      7       1"
      ]
     },
     "execution_count": 4,
     "metadata": {},
     "output_type": "execute_result"
    }
   ],
   "source": [
    "hr.sales = hr.sales.astype('category').cat.codes\n",
    "hr.salary = hr.salary.astype('category').cat.codes\n",
    "hr[[\"sales\",\"salary\"]].head()"
   ]
  },
  {
   "cell_type": "markdown",
   "metadata": {
    "collapsed": true
   },
   "source": [
    "<!-- TEASER_END -->"
   ]
  },
  {
   "cell_type": "markdown",
   "metadata": {
    "collapsed": false
   },
   "source": [
    "### Off-the-shelf Classification\n",
    "\n",
    "Create quick test of basic classification algorithms to see how well each performs with mostly unaltered data"
   ]
  },
  {
   "cell_type": "code",
   "execution_count": 5,
   "metadata": {
    "collapsed": true
   },
   "outputs": [],
   "source": [
    "def predict_left(df, clf, test_size=0.2):\n",
    "    X = df.drop(['left'],1)\n",
    "    y = df.left \n",
    "    X_train, X_test, y_train, y_test = train_test_split(X, y, test_size=test_size)\n",
    "    \n",
    "    \n",
    "    clf.fit(X_train, y_train)\n",
    "    \n",
    "    train_pred = clf.predict(X_train)\n",
    "    test_pred = clf.predict(X_test)\n",
    "    print('Training Score: {:.3f}'.format(clf.score(X_train, y_train)))\n",
    "    print('Testing Score: %.3f' % (clf.score(X_test, y_test)))\n",
    "    \n",
    "    print()"
   ]
  },
  {
   "cell_type": "code",
   "execution_count": 6,
   "metadata": {
    "collapsed": false
   },
   "outputs": [
    {
     "name": "stdout",
     "output_type": "stream",
     "text": [
      "Classifier  0\n",
      "Training Score: 0.998\n",
      "Testing Score: 0.988\n",
      "\n",
      "Classifier  1\n",
      "Training Score: 0.997\n",
      "Testing Score: 0.986\n",
      "\n",
      "Classifier  2\n",
      "Training Score: 0.962\n",
      "Testing Score: 0.949\n",
      "\n",
      "Classifier  3\n",
      "Training Score: 0.780\n",
      "Testing Score: 0.774\n",
      "\n",
      "Classifier  4\n",
      "Training Score: 0.962\n",
      "Testing Score: 0.964\n",
      "\n",
      "Classifier  5\n",
      "Training Score: 0.977\n",
      "Testing Score: 0.974\n",
      "\n",
      "Classifier  6\n",
      "Training Score: 0.951\n",
      "Testing Score: 0.927\n",
      "\n",
      "Classifier  7\n",
      "Training Score: 0.760\n",
      "Testing Score: 0.765\n",
      "\n"
     ]
    }
   ],
   "source": [
    "classifiers = [RandomForestClassifier(n_jobs=-1),\n",
    "               RandomForestClassifier(criterion='entropy', n_jobs=-1),\n",
    "               svm.SVC(),\n",
    "               LogisticRegressionCV(n_jobs=-1), \n",
    "               AdaBoostClassifier(), \n",
    "               GradientBoostingClassifier(),\n",
    "               neighbors.KNeighborsClassifier(n_jobs=-1),\n",
    "               MultinomialNB(class_prior=[76.19, 23.81])] \n",
    "\n",
    "np.random.seed(0)\n",
    "\n",
    "for i, clf in enumerate(classifiers):\n",
    "    print('Classifier ', i)\n",
    "    \n",
    "    predict_left(hr, clf, test_size=0.4)"
   ]
  },
  {
   "cell_type": "markdown",
   "metadata": {
    "collapsed": false
   },
   "source": [
    "They all seem to do well, besides svm, with Random Forest doing best regardless of it's criterion at ~98.7% predictive accuracy.\n",
    "\n",
    "### K-Fold Cross Validation\n",
    "\n",
    "Let's make sure they consistently produce that score using K-Fold Cross-Validation."
   ]
  },
  {
   "cell_type": "code",
   "execution_count": 7,
   "metadata": {
    "collapsed": false
   },
   "outputs": [],
   "source": [
    "def cross_val_left(hr, clf, cv_folds=CV_FOLDS, drop=['left']):\n",
    "    X = hr.drop(drop, 1)\n",
    "    y = hr.left \n",
    "    scores = cross_val_score(clf, X, y, cv=cv_folds, n_jobs=-1)#, scoring='roc_auc')\n",
    "    \n",
    "    \n",
    "    \n",
    "    print('Cross val score: ', sum(scores) / cv_folds )\n",
    "    print(scores)\n",
    "    \n",
    "    print()\n",
    "    "
   ]
  },
  {
   "cell_type": "code",
   "execution_count": 8,
   "metadata": {
    "collapsed": false
   },
   "outputs": [
    {
     "name": "stdout",
     "output_type": "stream",
     "text": [
      "Classifier  0\n",
      "Cross val score:  0.992066333178\n",
      "[ 0.99900033  0.981       0.98633333  0.99933311  0.99466489]\n",
      "\n",
      "Classifier  1\n",
      "Cross val score:  0.991866333163\n",
      "[ 0.99866711  0.98133333  0.98566667  0.99899967  0.99466489]\n",
      "\n"
     ]
    }
   ],
   "source": [
    "classifiers = [RandomForestClassifier(n_estimators=500 ,n_jobs=-1), RandomForestClassifier(n_estimators=500, criterion='entropy', n_jobs=-1)]\n",
    "\n",
    "for i, clf in enumerate(classifiers):\n",
    "    print('Classifier ', i)\n",
    "    \n",
    "    cross_val_left(hr, clf)"
   ]
  },
  {
   "cell_type": "markdown",
   "metadata": {},
   "source": [
    "Great, so they tend to do even better on average, with a score of 99.2% each over 5 cross-validation folds.\n",
    "\n",
    "### Learning Curve\n",
    "\n",
    "Now let's see how the classifier improves with more and more training data by plotting a learning curve."
   ]
  },
  {
   "cell_type": "code",
   "execution_count": 9,
   "metadata": {
    "collapsed": false
   },
   "outputs": [],
   "source": [
    "clf = RandomForestClassifier(n_estimators=500, n_jobs=-1)\n",
    "X = hr.drop(['left'],1)\n",
    "y = hr.left \n",
    "train_sizes, train_scores, valid_scores = learning_curve(clf, X, y, train_sizes=np.linspace(.1, 1.0, 10), cv=5, n_jobs=-1)\n"
   ]
  },
  {
   "cell_type": "code",
   "execution_count": 10,
   "metadata": {
    "collapsed": false
   },
   "outputs": [
    {
     "data": {
      "image/png": "[encoded data removed]",
      "text/plain": [
       "<matplotlib.figure.Figure at 0x7f1e26057470>"
      ]
     },
     "metadata": {},
     "output_type": "display_data"
    }
   ],
   "source": [
    "train_scores_mean = np.mean(train_scores, axis=1)\n",
    "train_scores_std = np.std(train_scores, axis=1)\n",
    "test_scores_mean = np.mean(valid_scores, axis=1)\n",
    "test_scores_std = np.std(valid_scores, axis=1)\n",
    "train_sizes = np.linspace(.1,1.0,10)\n",
    "plt.fill_between(train_sizes, train_scores_mean - train_scores_std,\n",
    "                     train_scores_mean + train_scores_std, alpha=0.1,\n",
    "                     color=\"r\")\n",
    "plt.fill_between(train_sizes, test_scores_mean - test_scores_std,\n",
    "                     test_scores_mean + test_scores_std, alpha=0.1, color=\"g\")\n",
    "\n",
    "plt.plot(train_sizes, train_scores_mean, 'o-', color=\"r\",\n",
    "             label=\"Training score\")\n",
    "plt.plot(train_sizes, test_scores_mean, 'o-', color=\"g\",\n",
    "             label=\"Cross-validation score\")\n",
    "\n",
    "plt.xlabel(\"Training examples\")\n",
    "plt.ylabel(\"Score\")\n",
    "\n",
    "plt.grid()\n",
    "plt.legend(loc=\"best\")\n",
    "plt.show()"
   ]
  },
  {
   "cell_type": "markdown",
   "metadata": {},
   "source": [
    "So there seems to be a huge improvement between getting 10% and 20% of the data, with mild improvements after that.\n",
    "\n",
    "Let's zoom in on the improvements after 40% of the training data is being trained on to get a better picture.\n",
    "\n",
    "The blue outline around the green cross-validation score is the standard deviation of the predicted scores."
   ]
  },
  {
   "cell_type": "code",
   "execution_count": 11,
   "metadata": {
    "collapsed": false
   },
   "outputs": [
    {
     "data": {
      "image/png": "[encoded data removed]",
      "text/plain": [
       "<matplotlib.figure.Figure at 0x7f1e24172668>"
      ]
     },
     "metadata": {},
     "output_type": "display_data"
    }
   ],
   "source": [
    "train_scores_mean = np.mean(train_scores, axis=1)[3:] # 0.4 on\n",
    "train_scores_std = np.std(train_scores, axis=1)[3:]\n",
    "test_scores_mean = np.mean(valid_scores, axis=1)[3:]\n",
    "test_scores_std = np.std(valid_scores, axis=1)[3:]\n",
    "train_sizes = np.linspace(.1,1.0,10)[3:]\n",
    "\n",
    "plt.fill_between(train_sizes, train_scores_mean - train_scores_std,\n",
    "                     train_scores_mean + train_scores_std, alpha=0.1,\n",
    "                     color=\"r\")\n",
    "plt.fill_between(train_sizes, test_scores_mean - test_scores_std,\n",
    "                     test_scores_mean + test_scores_std, alpha=0.1, color=\"g\")\n",
    "\n",
    "plt.plot(train_sizes, train_scores_mean, 'o-', color=\"r\",\n",
    "             label=\"Training score\")\n",
    "plt.plot(train_sizes, test_scores_mean, 'o-', color=\"g\",\n",
    "             label=\"Cross-validation score\")\n",
    "\n",
    "plt.xlabel(\"Training examples\")\n",
    "plt.ylabel(\"Score\")\n",
    "\n",
    "plt.grid()\n",
    "plt.legend(loc=\"best\")\n",
    "plt.show()"
   ]
  },
  {
   "cell_type": "markdown",
   "metadata": {},
   "source": [
    "## Feature Engineering\n",
    "\n",
    "Now let's do some feature engineering by removing the features that least matter"
   ]
  },
  {
   "cell_type": "code",
   "execution_count": 12,
   "metadata": {
    "collapsed": false
   },
   "outputs": [
    {
     "name": "stdout",
     "output_type": "stream",
     "text": [
      "Index(['satisfaction_level', 'last_evaluation', 'number_project',\n",
      "       'average_montly_hours', 'time_spend_company', 'Work_accident',\n",
      "       'promotion_last_5years', 'sales', 'salary'],\n",
      "      dtype='object')\n"
     ]
    },
    {
     "data": {
      "text/plain": [
       "array([ 0.3475117 ,  0.12315145,  0.17318094,  0.14422289,  0.18418062,\n",
       "        0.00558285,  0.00098859,  0.01256505,  0.00861591])"
      ]
     },
     "execution_count": 12,
     "metadata": {},
     "output_type": "execute_result"
    }
   ],
   "source": [
    "np.random.seed(0)\n",
    "\n",
    "clf = RandomForestClassifier(n_estimators=500, n_jobs=-1)\n",
    "X = hr.drop(['left'],1)\n",
    "y = hr.left \n",
    "X_train, X_test, y_train, y_test = train_test_split(X, y, test_size=0.2)\n",
    "    \n",
    "    \n",
    "clf.fit(X_train, y_train)\n",
    "print(X.columns)\n",
    "clf.feature_importances_"
   ]
  },
  {
   "cell_type": "markdown",
   "metadata": {
    "collapsed": false
   },
   "source": [
    "Let's start by dropping all features with lower than 0.01 relevance.\n",
    "\n",
    "It's possible that a feature with a low \"relevance\" can still matter if the magnitude is great enough, however most of these values are in the same range near zero, so that shouldn't matter."
   ]
  },
  {
   "cell_type": "code",
   "execution_count": 13,
   "metadata": {
    "collapsed": false
   },
   "outputs": [
    {
     "name": "stdout",
     "output_type": "stream",
     "text": [
      "Classifier  0\n",
      "Cross val score:  0.991532933111\n",
      "[ 0.99800067  0.98133333  0.98633333  0.99833278  0.99366455]\n",
      "\n",
      "Classifier  1\n",
      "Cross val score:  0.991532910896\n",
      "[ 0.99833389  0.98166667  0.98566667  0.99833278  0.99366455]\n",
      "\n"
     ]
    }
   ],
   "source": [
    "drop = ['left', 'promotion_last_5years', 'Work_accident', 'sales', 'salary']\n",
    "for i, clf in enumerate(classifiers):\n",
    "    print('Classifier ', i)\n",
    "    \n",
    "    cross_val_left(hr, clf, drop=drop)"
   ]
  },
  {
   "cell_type": "markdown",
   "metadata": {},
   "source": [
    "So it seems that dropping all with < 0.01 relevance seems to not affect score much: \n",
    "\n",
    "99.20% -> 99.16%\n",
    "\n",
    "Let's investigate further."
   ]
  },
  {
   "cell_type": "code",
   "execution_count": 14,
   "metadata": {
    "collapsed": false
   },
   "outputs": [
    {
     "data": {
      "text/plain": [
       "satisfaction_level      -0.388375\n",
       "last_evaluation          0.006567\n",
       "number_project           0.023787\n",
       "average_montly_hours     0.071287\n",
       "time_spend_company       0.144822\n",
       "Work_accident           -0.154622\n",
       "left                     1.000000\n",
       "promotion_last_5years   -0.061788\n",
       "sales                    0.032105\n",
       "salary                  -0.001294\n",
       "Name: left, dtype: float64"
      ]
     },
     "execution_count": 14,
     "metadata": {},
     "output_type": "execute_result"
    }
   ],
   "source": [
    "hr.corr()[\"left\"]"
   ]
  },
  {
   "cell_type": "markdown",
   "metadata": {},
   "source": [
    "Will we get the same results by looking at other metrics? \n",
    "\n",
    "Let's see what happens when we drop everything with abs(correlation) < 0.005"
   ]
  },
  {
   "cell_type": "code",
   "execution_count": 15,
   "metadata": {
    "collapsed": false
   },
   "outputs": [
    {
     "name": "stdout",
     "output_type": "stream",
     "text": [
      "Classifier  0\n",
      "Cross val score:  0.991666355363\n",
      "[ 0.99800067  0.981       0.986       0.99899967  0.99433144]\n",
      "\n",
      "Classifier  1\n",
      "Cross val score:  0.991866310918\n",
      "[ 0.99833389  0.98166667  0.98633333  0.99866622  0.99433144]\n",
      "\n"
     ]
    }
   ],
   "source": [
    "drop = ['left',  'sales', 'salary']\n",
    "classifiers = [RandomForestClassifier(n_estimators=500 ,n_jobs=-1), RandomForestClassifier(n_estimators=500, criterion='entropy', n_jobs=-1)]#, svm.SVC()]#xgb.XGBClassifier(n_estimators=500, nthread=-1)]# svm.SVC()]\n",
    "\n",
    "for i, clf in enumerate(classifiers):\n",
    "    print('Classifier ', i)\n",
    "    \n",
    "    cross_val_left(hr, clf, drop=drop)"
   ]
  },
  {
   "cell_type": "markdown",
   "metadata": {},
   "source": [
    "The decrease in accuracy is the same as when we pulled out four features before, even though we only took out half as many.\n",
    "\n",
    "What happens if we only take out the other two features and leave in the \"least correlated\"?"
   ]
  },
  {
   "cell_type": "code",
   "execution_count": 16,
   "metadata": {
    "collapsed": false
   },
   "outputs": [
    {
     "name": "stdout",
     "output_type": "stream",
     "text": [
      "Classifier  0\n",
      "Cross val score:  0.992199666511\n",
      "[ 0.99900033  0.98166667  0.98633333  0.99933311  0.99466489]\n",
      "\n",
      "Classifier  1\n",
      "Cross val score:  0.991866266489\n",
      "[ 0.99900033  0.98133333  0.986       0.99899967  0.993998  ]\n",
      "\n"
     ]
    }
   ],
   "source": [
    "drop = ['left', 'promotion_last_5years', 'Work_accident']\n",
    "for i, clf in enumerate(classifiers):\n",
    "    print('Classifier ', i)\n",
    "    \n",
    "    cross_val_left(hr, clf, drop=drop)"
   ]
  },
  {
   "cell_type": "markdown",
   "metadata": {},
   "source": [
    "Hmm. So it seems removing Salary and Sales is what caused the 0.04 percentage point decrease, and still matter somewhat even though they're the least correlated.\n",
    "\n",
    "The other two features though seem worthless and possibly counterproductive though since removing them managed to increase the RandomForestClassifier's (with Entropy) accuracy"
   ]
  },
  {
   "cell_type": "markdown",
   "metadata": {},
   "source": [
    "### Recursive Feature Selection\n",
    "\n",
    "Recursive Feature Selection, or RFE, is a more predictable method of ranking features. \n",
    "\n",
    "Let's see if we get the same results as before by looking at what the worst 4 features are\n"
   ]
  },
  {
   "cell_type": "code",
   "execution_count": 17,
   "metadata": {
    "collapsed": false
   },
   "outputs": [
    {
     "name": "stdout",
     "output_type": "stream",
     "text": [
      "[ True  True  True  True  True False False False False]\n",
      "[1 1 1 1 1 4 5 2 3]\n"
     ]
    }
   ],
   "source": [
    "model = RandomForestClassifier(n_estimators=500, n_jobs=-1)\n",
    "clf = RFE(model, 5)\n",
    "\n",
    "X = hr.drop(['left'], 1)\n",
    "y = hr.left \n",
    "X_train, X_test, y_train, y_test = train_test_split(X, y, test_size=0.2)\n",
    "    \n",
    "    \n",
    "clf.fit(X_train, y_train)\n",
    "print(clf.support_)\n",
    "print(clf.ranking_)\n",
    "# Gets same result as feature_importance, which makes sense"
   ]
  },
  {
   "cell_type": "markdown",
   "metadata": {},
   "source": [
    "It's the same as before, with 'promotion_last_5years' and 'Work_accident' being the worst features, with Salary and Sales right behind.\n",
    "\n",
    "That worked out nicely.\n",
    "\n",
    "But is that true if we use other algorithms with similar accuracy (that RFE is willing to work with)?"
   ]
  },
  {
   "cell_type": "code",
   "execution_count": 18,
   "metadata": {
    "collapsed": false
   },
   "outputs": [
    {
     "name": "stdout",
     "output_type": "stream",
     "text": [
      "Classifier 0\n",
      "[1 1 1 1 1 5 4 2 3]\n",
      "\n",
      "Classifier 1\n",
      "[1 1 1 1 1 3 5 4 2]\n",
      "\n",
      "Classifier 2\n",
      "[1 1 2 4 1 1 1 3 5]\n",
      "\n",
      "Classifier 3\n",
      "[1 1 2 5 3 1 1 4 1]\n",
      "\n"
     ]
    }
   ],
   "source": [
    "classifiers = [AdaBoostClassifier(), \n",
    "               GradientBoostingClassifier(),\n",
    "               LogisticRegressionCV(),\n",
    "               MultinomialNB()] \n",
    "\n",
    "for i, model in enumerate(classifiers):\n",
    "    clf = RFE(model, 5)\n",
    "\n",
    "    X = hr.drop(['left'], 1)\n",
    "    y = hr.left \n",
    "    X_train, X_test, y_train, y_test = train_test_split(X, y, test_size=0.2)\n",
    "    \n",
    "    \n",
    "    print(\"Classifier %d\" % i)\n",
    "    clf.fit(X_train, y_train)\n",
    "    \n",
    "    print(clf.ranking_)\n",
    "    print()\n",
    "    # Gets same result as feature_importance"
   ]
  },
  {
   "cell_type": "markdown",
   "metadata": {},
   "source": [
    "Both the high accuracy classifiers (AdaBoost and GradientBoost) view those same 4 as being the lest useful, in similar if not identical orders. Logistic Regression and Multinomial Naive Bayes on the other hand, with their ~77% accuracy only agreed that sales was bad.\n",
    "\n",
    "Given that all the high accuracy classifiers agree, I think it's safe to say that 'promotion_last_5years' and 'Work_accident' are the worst features"
   ]
  },
  {
   "cell_type": "markdown",
   "metadata": {},
   "source": [
    "## PCA\n",
    "\n",
    "Now let's look at what happens when reduce the relevant features down to 2 and 3 dimensions so that we can plot them.\n",
    "\n",
    "### 2-D"
   ]
  },
  {
   "cell_type": "code",
   "execution_count": 19,
   "metadata": {
    "collapsed": true
   },
   "outputs": [],
   "source": [
    "drop = ['left',  'promotion_last_5years', 'Work_accident']\n",
    "\n",
    "y = np.array(hr.left)\n",
    "\n",
    "X = np.array(hr.drop(drop,1))\n",
    "pca = PCA(n_components=2).fit(X)\n",
    "X_pca = pca.transform(X)"
   ]
  },
  {
   "cell_type": "markdown",
   "metadata": {
    "collapsed": false
   },
   "source": [
    "Now that we've done the PCA transformation, let's see how much of the variance is explained per new feature, and overall"
   ]
  },
  {
   "cell_type": "code",
   "execution_count": 20,
   "metadata": {
    "collapsed": false
   },
   "outputs": [
    {
     "name": "stdout",
     "output_type": "stream",
     "text": [
      "[ 0.99518845  0.00328358]\n",
      "0.998472031391\n"
     ]
    }
   ],
   "source": [
    "print(pca.explained_variance_ratio_)\n",
    "print(sum(pca.explained_variance_ratio_))"
   ]
  },
  {
   "cell_type": "markdown",
   "metadata": {},
   "source": [
    "It looks like pretty much all of the variance is being handled by the first dimension, and that we should still get high accuracy since most of the variance in the data is still there."
   ]
  },
  {
   "cell_type": "code",
   "execution_count": 21,
   "metadata": {
    "collapsed": false
   },
   "outputs": [
    {
     "name": "stdout",
     "output_type": "stream",
     "text": [
      "Cross val score:  0.9572663318\n",
      "[ 0.96801066  0.92066667  0.93466667  0.97965989  0.98332778]\n"
     ]
    }
   ],
   "source": [
    "# Still get good accuracy, ~97%\n",
    "clf = RandomForestClassifier(n_estimators=500, n_jobs=-1)\n",
    "y = np.array(hr.left) \n",
    "\n",
    "scores = cross_val_score(clf, X_pca, y, cv=CV_FOLDS, n_jobs=-1)\n",
    "    \n",
    "    \n",
    "    \n",
    "print('Cross val score: ', sum(scores) / CV_FOLDS )\n",
    "print(scores)"
   ]
  },
  {
   "cell_type": "markdown",
   "metadata": {},
   "source": [
    "Despite catching most of the variance, the accuracy of the classifier goes down a lot (3.5 percentage points) and there is a lot more variance in the various cross folds (92.07% <-> 98.33%)\n",
    "\n",
    "### Now let's plot our 2-Dimensional data"
   ]
  },
  {
   "cell_type": "code",
   "execution_count": 22,
   "metadata": {
    "collapsed": false
   },
   "outputs": [
    {
     "data": {
      "image/png": "[encoded data removed]",
      "text/plain": [
       "<matplotlib.figure.Figure at 0x7f1e260067f0>"
      ]
     },
     "metadata": {},
     "output_type": "display_data"
    }
   ],
   "source": [
    "colors = itertools.cycle('rb')\n",
    "target_ids = range(2)\n",
    "plt.figure()\n",
    "for i, c, label in zip(target_ids, colors, [\"stay\",\"left\"]):\n",
    "    plt.scatter(X_pca[y == i, 0], X_pca[y == i, 1],\n",
    "                c=c, label=label)\n",
    "plt.legend()\n",
    "plt.show()"
   ]
  },
  {
   "cell_type": "code",
   "execution_count": null,
   "metadata": {
    "collapsed": false
   },
   "outputs": [],
   "source": []
  },
  {
   "cell_type": "code",
   "execution_count": null,
   "metadata": {
    "collapsed": false
   },
   "outputs": [],
   "source": []
  },
  {
   "cell_type": "code",
   "execution_count": null,
   "metadata": {
    "collapsed": false
   },
   "outputs": [],
   "source": []
  },
  {
   "cell_type": "markdown",
   "metadata": {
    "collapsed": false
   },
   "source": [
    "### 3-D"
   ]
  },
  {
   "cell_type": "code",
   "execution_count": 23,
   "metadata": {
    "collapsed": false
   },
   "outputs": [
    {
     "name": "stderr",
     "output_type": "stream",
     "text": [
      "/home/altock/anaconda3/envs/py35/lib/python3.5/site-packages/matplotlib/collections.py:865: RuntimeWarning: invalid value encountered in sqrt\n",
      "  scale = np.sqrt(self._sizes) * dpi / 72.0 * self._factor\n"
     ]
    },
    {
     "data": {
      "image/png": "[encoded data removed]",
      "text/plain": [
       "<matplotlib.figure.Figure at 0x7f1e2410c0b8>"
      ]
     },
     "metadata": {},
     "output_type": "display_data"
    }
   ],
   "source": [
    "y = np.array(hr.left)\n",
    "\n",
    "X = np.array(hr.drop(drop,1))\n",
    "pca = PCA(n_components=3).fit(X)\n",
    "X_pca = pca.transform(X)\n",
    "\n",
    "colors = itertools.cycle('rb')\n",
    "target_ids = range(2)\n",
    "fig = plt.figure()\n",
    "ax = fig.add_subplot(111, projection='3d')\n",
    "for i, c, label in zip(target_ids, colors, [\"stay\",\"left\"]):\n",
    "    plt.scatter(X_pca[y == i, 0], X_pca[y == i, 1],X_pca[y == i, 2],\n",
    "                c=c, label=label)\n",
    "    \n",
    "ax.set_xlabel('X Label')\n",
    "ax.set_ylabel('Y Label')\n",
    "ax.set_zlabel('Z Label')\n",
    "\n",
    "plt.legend()\n",
    "plt.show()"
   ]
  },
  {
   "cell_type": "markdown",
   "metadata": {},
   "source": [
    "Sicne almost all of the variance is in the first dimension, it makes sense that the 3d graph is essentially a 2-D plane.\n",
    "\n",
    "Now let's check in on the accuracy of the 3-D version"
   ]
  },
  {
   "cell_type": "code",
   "execution_count": 24,
   "metadata": {
    "collapsed": false
   },
   "outputs": [
    {
     "name": "stdout",
     "output_type": "stream",
     "text": [
      "Cross val score:  0.971266776704\n",
      "[ 0.97500833  0.948       0.95666667  0.98399466  0.99266422]\n"
     ]
    }
   ],
   "source": [
    "# 3D accuracy is the same as 2D\n",
    "clf = RandomForestClassifier(n_estimators=500, n_jobs=-1)\n",
    "y = hr.left \n",
    "\n",
    "scores = cross_val_score(clf, X_pca, y, cv=CV_FOLDS, n_jobs=-1)\n",
    "    \n",
    "    \n",
    "    \n",
    "print('Cross val score: ', sum(scores) / CV_FOLDS )\n",
    "print(scores)"
   ]
  },
  {
   "cell_type": "markdown",
   "metadata": {},
   "source": [
    "Accuracy seems to be halfway between the 2-D accuracy and the original accuracy at 97.1%, which makes sense."
   ]
  },
  {
   "cell_type": "markdown",
   "metadata": {},
   "source": [
    "## Confusion Matrix and Classification Report"
   ]
  },
  {
   "cell_type": "code",
   "execution_count": 25,
   "metadata": {
    "collapsed": true
   },
   "outputs": [],
   "source": [
    "clf = RandomForestClassifier(n_estimators=500, n_jobs=-1)\n",
    "X = hr.drop(drop,1)\n",
    "y = hr.left \n",
    "X_train, X_test, y_train, y_test = train_test_split(X, y, test_size=0.2)\n",
    "    \n",
    "    \n",
    "clf.fit(X_train, y_train)\n",
    "y_pred = clf.predict(X_test)"
   ]
  },
  {
   "cell_type": "markdown",
   "metadata": {},
   "source": [
    "### Confusion Matrix"
   ]
  },
  {
   "cell_type": "code",
   "execution_count": 26,
   "metadata": {
    "collapsed": false
   },
   "outputs": [
    {
     "data": {
      "image/png": "[encoded data removed]",
      "text/plain": [
       "<matplotlib.figure.Figure at 0x7f1e240b7080>"
      ]
     },
     "metadata": {},
     "output_type": "display_data"
    }
   ],
   "source": [
    "def plot_confusion_matrix(cm, classes,\n",
    "                          title='Confusion matrix',\n",
    "                          cmap=plt.cm.Blues):\n",
    "    \n",
    "    plt.imshow(cm, interpolation='nearest', cmap=cmap)\n",
    "    plt.title(title)\n",
    "    plt.colorbar()\n",
    "    tick_marks = np.arange(len(classes))\n",
    "    plt.xticks(tick_marks, classes, rotation=45)\n",
    "    plt.yticks(tick_marks, classes)\n",
    "\n",
    "    thresh = cm.max() / 2.\n",
    "    for i, j in itertools.product(range(cm.shape[0]), range(cm.shape[1])):\n",
    "        plt.text(j, i, cm[i, j],\n",
    "                 horizontalalignment=\"center\",\n",
    "                 color=\"white\" if cm[i, j] > thresh else \"black\")\n",
    "\n",
    "    plt.tight_layout()\n",
    "    plt.ylabel('True label')\n",
    "    plt.xlabel('Predicted label')\n",
    "\n",
    "# Compute confusion matrix\n",
    "cnf_matrix = confusion_matrix(y_test, y_pred)\n",
    "np.set_printoptions(precision=10)\n",
    "\n",
    "class_names = [\"Stay\",\"Left\"]\n",
    "\n",
    "plot_confusion_matrix(cnf_matrix, classes=class_names,\n",
    "                      title='Confusion matrix')\n",
    "\n",
    "\n",
    "plt.show()"
   ]
  },
  {
   "cell_type": "markdown",
   "metadata": {},
   "source": [
    "As you can see...\n",
    "\n",
    "### Classification Report"
   ]
  },
  {
   "cell_type": "code",
   "execution_count": 27,
   "metadata": {
    "collapsed": false
   },
   "outputs": [
    {
     "name": "stdout",
     "output_type": "stream",
     "text": [
      "             precision    recall  f1-score   support\n",
      "\n",
      "       Stay       0.99      1.00      1.00      2306\n",
      "       Left       1.00      0.98      0.99       694\n",
      "\n",
      "avg / total       1.00      1.00      1.00      3000\n",
      "\n"
     ]
    }
   ],
   "source": [
    "print(classification_report(y_test,y_pred, target_names=class_names))"
   ]
  },
  {
   "cell_type": "markdown",
   "metadata": {},
   "source": [
    "## Attempt to find department level features, doesn't seem to matter\n"
   ]
  },
  {
   "cell_type": "code",
   "execution_count": 28,
   "metadata": {
    "collapsed": false
   },
   "outputs": [
    {
     "data": {
      "text/plain": [
       "satisfaction_level       0.003153\n",
       "last_evaluation          0.007772\n",
       "number_project           0.009268\n",
       "average_montly_hours     0.003913\n",
       "time_spend_company      -0.018010\n",
       "Work_accident            0.003425\n",
       "left                     0.032105\n",
       "promotion_last_5years   -0.027336\n",
       "sales                    1.000000\n",
       "salary                   0.000685\n",
       "Name: sales, dtype: float64"
      ]
     },
     "execution_count": 28,
     "metadata": {},
     "output_type": "execute_result"
    }
   ],
   "source": [
    "hr_corr = hr.corr()\n",
    "hr_corr[\"sales\"]"
   ]
  },
  {
   "cell_type": "code",
   "execution_count": 29,
   "metadata": {
    "collapsed": false
   },
   "outputs": [
    {
     "data": {
      "text/plain": [
       "array(['satisfaction_level', 'last_evaluation', 'number_project',\n",
       "       'average_montly_hours', 'time_spend_company', 'Work_accident',\n",
       "       'left', 'promotion_last_5years', 'sales', 'salary'], dtype=object)"
      ]
     },
     "execution_count": 29,
     "metadata": {},
     "output_type": "execute_result"
    }
   ],
   "source": [
    "hr.columns.values"
   ]
  },
  {
   "cell_type": "code",
   "execution_count": 30,
   "metadata": {
    "collapsed": false
   },
   "outputs": [
    {
     "name": "stdout",
     "output_type": "stream",
     "text": [
      "      satisfaction_level          \n",
      "                    size      mean\n",
      "sales                             \n",
      "0                 1227.0  0.618142\n",
      "1                  787.0  0.619822\n",
      "2                  767.0  0.582151\n",
      "3                  739.0  0.598809\n",
      "4                  630.0  0.621349\n",
      "5                  858.0  0.618601\n",
      "6                  902.0  0.619634\n",
      "7                 4140.0  0.614447\n",
      "8                 2229.0  0.618300\n",
      "9                 2720.0  0.607897\n",
      "      last_evaluation          \n",
      "                 size      mean\n",
      "sales                          \n",
      "0              1227.0  0.716830\n",
      "1               787.0  0.712122\n",
      "2               767.0  0.717718\n",
      "3               739.0  0.708850\n",
      "4               630.0  0.724000\n",
      "5               858.0  0.715886\n",
      "6               902.0  0.714756\n",
      "7              4140.0  0.709717\n",
      "8              2229.0  0.723109\n",
      "9              2720.0  0.721099\n",
      "      number_project          \n",
      "                size      mean\n",
      "sales                         \n",
      "0               1227  3.816626\n",
      "1                787  3.853875\n",
      "2                767  3.825293\n",
      "3                739  3.654939\n",
      "4                630  3.860317\n",
      "5                858  3.687646\n",
      "6                902  3.807095\n",
      "7               4140  3.776329\n",
      "8               2229  3.803948\n",
      "9               2720  3.877941\n",
      "      average_montly_hours            \n",
      "                      size        mean\n",
      "sales                                 \n",
      "0                     1227  202.215974\n",
      "1                      787  200.800508\n",
      "2                      767  201.162973\n",
      "3                      739  198.684709\n",
      "4                      630  201.249206\n",
      "5                      858  199.385781\n",
      "6                      902  199.965632\n",
      "7                     4140  200.911353\n",
      "8                     2229  200.758188\n",
      "9                     2720  202.497426\n",
      "      time_spend_company          \n",
      "                    size      mean\n",
      "sales                             \n",
      "0                   1227  3.468623\n",
      "1                    787  3.367217\n",
      "2                    767  3.522816\n",
      "3                    739  3.355886\n",
      "4                    630  4.303175\n",
      "5                    858  3.569930\n",
      "6                    902  3.475610\n",
      "7                   4140  3.534058\n",
      "8                   2229  3.393001\n",
      "9                   2720  3.411397\n",
      "      Work_accident          \n",
      "               size      mean\n",
      "sales                        \n",
      "0              1227  0.133659\n",
      "1               787  0.170267\n",
      "2               767  0.125163\n",
      "3               739  0.120433\n",
      "4               630  0.163492\n",
      "5               858  0.160839\n",
      "6               902  0.146341\n",
      "7              4140  0.141787\n",
      "8              2229  0.154778\n",
      "9              2720  0.140074\n",
      "       left          \n",
      "       size      mean\n",
      "sales                \n",
      "0      1227  0.222494\n",
      "1       787  0.153748\n",
      "2       767  0.265971\n",
      "3       739  0.290934\n",
      "4       630  0.144444\n",
      "5       858  0.236597\n",
      "6       902  0.219512\n",
      "7      4140  0.244928\n",
      "8      2229  0.248991\n",
      "9      2720  0.256250\n",
      "      promotion_last_5years          \n",
      "                       size      mean\n",
      "sales                                \n",
      "0                      1227  0.002445\n",
      "1                       787  0.034307\n",
      "2                       767  0.018253\n",
      "3                       739  0.020298\n",
      "4                       630  0.109524\n",
      "5                       858  0.050117\n",
      "6                       902  0.000000\n",
      "7                      4140  0.024155\n",
      "8                      2229  0.008973\n",
      "9                      2720  0.010294\n",
      "      sales     \n",
      "       size mean\n",
      "sales           \n",
      "0      1227    0\n",
      "1       787    1\n",
      "2       767    2\n",
      "3       739    3\n",
      "4       630    4\n",
      "5       858    5\n",
      "6       902    6\n",
      "7      4140    7\n",
      "8      2229    8\n",
      "9      2720    9\n",
      "      salary          \n",
      "        size      mean\n",
      "sales                 \n",
      "0       1227  1.368378\n",
      "1        787  1.407878\n",
      "2        767  1.340287\n",
      "3        739  1.424899\n",
      "4        630  1.000000\n",
      "5        858  1.344988\n",
      "6        902  1.349224\n",
      "7       4140  1.363043\n",
      "8       2229  1.359354\n",
      "9       2720  1.347794\n"
     ]
    }
   ],
   "source": [
    "for col in hr.columns:\n",
    "    depProperties = hr.groupby('sales').agg({col:[np.size,np.mean]})\n",
    "    print(depProperties)"
   ]
  },
  {
   "cell_type": "code",
   "execution_count": null,
   "metadata": {
    "collapsed": false
   },
   "outputs": [],
   "source": []
  },
  {
   "cell_type": "code",
   "execution_count": 31,
   "metadata": {
    "collapsed": false
   },
   "outputs": [],
   "source": [
    "# Department metrics don't work\n",
    "\n",
    "hr[\"is_4\"] = hr.sales.apply(lambda x: x== 4)\n",
    "\n",
    "depProperties = hr.groupby('sales').agg({'promotion_last_5years':np.mean}).values\n",
    "hr[\"avg_per_team\"] = hr.sales.apply(lambda x: depProperties[x])"
   ]
  },
  {
   "cell_type": "code",
   "execution_count": null,
   "metadata": {
    "collapsed": true
   },
   "outputs": [],
   "source": []
  }
 ],
 "metadata": {
  "anaconda-cloud": {},
  "kernelspec": {
   "display_name": "Python [conda env:py35]",
   "language": "python",
   "name": "conda-env-py35-py"
  },
  "language_info": {
   "codemirror_mode": {
    "name": "ipython",
    "version": 3
   },
   "file_extension": ".py",
   "mimetype": "text/x-python",
   "name": "python",
   "nbconvert_exporter": "python",
   "pygments_lexer": "ipython3",
   "version": "3.5.3"
  },
  "metadata": {
   "Author": "Sam \"Sven\" Svenningsen",
   "Category": "posts",
   "Date": "2017-03-01 7:00",
   "Slug": "hr-post",
   "Summary": "My first post, read it to find out.",
   "Tags": "python, firsts",
   "Title": "HR Post"
  },
  "nikola": {
   "category": "",
   "date": "2017-03-13 14:18:45 UTC-04:00",
   "description": "",
   "link": "",
   "slug": "992-accuracy-on-employee-resignations-under-construction",
   "tags": "",
   "title": "99.2% Accuracy on Employee Resignations (Under Construction)",
   "type": "text"
  }
 },
 "nbformat": 4,
 "nbformat_minor": 2
}
