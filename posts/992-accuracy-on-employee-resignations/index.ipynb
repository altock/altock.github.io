{
 "cells": [
  {
   "cell_type": "code",
   "execution_count": 6,
   "metadata": {
    "collapsed": false
   },
   "outputs": [],
   "source": [
    "import pandas as pd\n",
    "import numpy as np\n",
    "\n",
    "from sklearn import  neighbors, svm\n",
    "from sklearn.linear_model import LogisticRegressionCV\n",
    "from sklearn.decomposition import PCA\n",
    "from sklearn.ensemble import RandomForestClassifier, GradientBoostingClassifier,\\\n",
    "    AdaBoostClassifier\n",
    "    \n",
    "from sklearn.metrics import accuracy_score, mean_squared_error, r2_score,\\\n",
    "    mean_absolute_error, confusion_matrix, classification_report\n",
    "from sklearn.model_selection import cross_val_score, train_test_split,\\\n",
    "    learning_curve\n",
    "\n",
    "\n",
    "%matplotlib inline\n",
    "import matplotlib.pyplot as plt\n",
    "from mpl_toolkits.mplot3d import Axes3D\n",
    "\n",
    "import itertools\n",
    "import pickle\n",
    "\n",
    "DIR_DATA = \"data\"\n",
    "DIR_PROCESSED = \"processed\"\n",
    "CV_FOLDS = 5"
   ]
  },
  {
   "cell_type": "markdown",
   "metadata": {
    "collapsed": true
   },
   "source": [
    "### HR_comma_sep.csv\n",
    "\n",
    "## Features\n",
    "* Employee satisfaction level\n",
    "* Last evaluation\n",
    "* Number of projects\n",
    "* Average monthly hours\n",
    "* Time spent at the company\n",
    "* Whether they have had a work accident\n",
    "* Whether they have had a promotion in the last 5 years\n",
    "* Department\n",
    "* Salary\n",
    "\n",
    "## Target\n",
    "* Whether the employee has left"
   ]
  },
  {
   "cell_type": "code",
   "execution_count": 9,
   "metadata": {
    "collapsed": false
   },
   "outputs": [
    {
     "data": {
      "text/html": [
       "<div>\n",
       "<table border=\"1\" class=\"dataframe\">\n",
       "  <thead>\n",
       "    <tr style=\"text-align: right;\">\n",
       "      <th></th>\n",
       "      <th>satisfaction_level</th>\n",
       "      <th>last_evaluation</th>\n",
       "      <th>number_project</th>\n",
       "      <th>average_montly_hours</th>\n",
       "      <th>time_spend_company</th>\n",
       "      <th>Work_accident</th>\n",
       "      <th>left</th>\n",
       "      <th>promotion_last_5years</th>\n",
       "      <th>sales</th>\n",
       "      <th>salary</th>\n",
       "    </tr>\n",
       "  </thead>\n",
       "  <tbody>\n",
       "    <tr>\n",
       "      <th>0</th>\n",
       "      <td>0.38</td>\n",
       "      <td>0.53</td>\n",
       "      <td>2</td>\n",
       "      <td>157</td>\n",
       "      <td>3</td>\n",
       "      <td>0</td>\n",
       "      <td>1</td>\n",
       "      <td>0</td>\n",
       "      <td>sales</td>\n",
       "      <td>low</td>\n",
       "    </tr>\n",
       "    <tr>\n",
       "      <th>1</th>\n",
       "      <td>0.80</td>\n",
       "      <td>0.86</td>\n",
       "      <td>5</td>\n",
       "      <td>262</td>\n",
       "      <td>6</td>\n",
       "      <td>0</td>\n",
       "      <td>1</td>\n",
       "      <td>0</td>\n",
       "      <td>sales</td>\n",
       "      <td>medium</td>\n",
       "    </tr>\n",
       "    <tr>\n",
       "      <th>2</th>\n",
       "      <td>0.11</td>\n",
       "      <td>0.88</td>\n",
       "      <td>7</td>\n",
       "      <td>272</td>\n",
       "      <td>4</td>\n",
       "      <td>0</td>\n",
       "      <td>1</td>\n",
       "      <td>0</td>\n",
       "      <td>sales</td>\n",
       "      <td>medium</td>\n",
       "    </tr>\n",
       "    <tr>\n",
       "      <th>3</th>\n",
       "      <td>0.72</td>\n",
       "      <td>0.87</td>\n",
       "      <td>5</td>\n",
       "      <td>223</td>\n",
       "      <td>5</td>\n",
       "      <td>0</td>\n",
       "      <td>1</td>\n",
       "      <td>0</td>\n",
       "      <td>sales</td>\n",
       "      <td>low</td>\n",
       "    </tr>\n",
       "    <tr>\n",
       "      <th>4</th>\n",
       "      <td>0.37</td>\n",
       "      <td>0.52</td>\n",
       "      <td>2</td>\n",
       "      <td>159</td>\n",
       "      <td>3</td>\n",
       "      <td>0</td>\n",
       "      <td>1</td>\n",
       "      <td>0</td>\n",
       "      <td>sales</td>\n",
       "      <td>low</td>\n",
       "    </tr>\n",
       "  </tbody>\n",
       "</table>\n",
       "</div>"
      ],
      "text/plain": [
       "   satisfaction_level  last_evaluation  number_project  average_montly_hours  \\\n",
       "0                0.38             0.53               2                   157   \n",
       "1                0.80             0.86               5                   262   \n",
       "2                0.11             0.88               7                   272   \n",
       "3                0.72             0.87               5                   223   \n",
       "4                0.37             0.52               2                   159   \n",
       "\n",
       "   time_spend_company  Work_accident  left  promotion_last_5years  sales  \\\n",
       "0                   3              0     1                      0  sales   \n",
       "1                   6              0     1                      0  sales   \n",
       "2                   4              0     1                      0  sales   \n",
       "3                   5              0     1                      0  sales   \n",
       "4                   3              0     1                      0  sales   \n",
       "\n",
       "   salary  \n",
       "0     low  \n",
       "1  medium  \n",
       "2  medium  \n",
       "3     low  \n",
       "4     low  "
      ]
     },
     "execution_count": 9,
     "metadata": {},
     "output_type": "execute_result"
    }
   ],
   "source": [
    "hr = pd.read_csv(DIR_DATA + '/HR_comma_sep.csv')\n",
    "hr.head()"
   ]
  },
  {
   "cell_type": "code",
   "execution_count": 10,
   "metadata": {
    "collapsed": false
   },
   "outputs": [
    {
     "name": "stdout",
     "output_type": "stream",
     "text": [
      "Percent who left: 23.81\n"
     ]
    }
   ],
   "source": [
    "print('Percent who left: {:.2f}'.format(np.sum(hr.left) / len(hr.left) * 100))"
   ]
  },
  {
   "cell_type": "markdown",
   "metadata": {},
   "source": [
    "Turn sales departments and salary (high/medium/low) into category types so that scikit-learn's algorithms can handle them"
   ]
  },
  {
   "cell_type": "code",
   "execution_count": 12,
   "metadata": {
    "collapsed": false
   },
   "outputs": [
    {
     "data": {
      "text/html": [
       "<div>\n",
       "<table border=\"1\" class=\"dataframe\">\n",
       "  <thead>\n",
       "    <tr style=\"text-align: right;\">\n",
       "      <th></th>\n",
       "      <th>sales</th>\n",
       "      <th>salary</th>\n",
       "    </tr>\n",
       "  </thead>\n",
       "  <tbody>\n",
       "    <tr>\n",
       "      <th>0</th>\n",
       "      <td>7</td>\n",
       "      <td>1</td>\n",
       "    </tr>\n",
       "    <tr>\n",
       "      <th>1</th>\n",
       "      <td>7</td>\n",
       "      <td>2</td>\n",
       "    </tr>\n",
       "    <tr>\n",
       "      <th>2</th>\n",
       "      <td>7</td>\n",
       "      <td>2</td>\n",
       "    </tr>\n",
       "    <tr>\n",
       "      <th>3</th>\n",
       "      <td>7</td>\n",
       "      <td>1</td>\n",
       "    </tr>\n",
       "    <tr>\n",
       "      <th>4</th>\n",
       "      <td>7</td>\n",
       "      <td>1</td>\n",
       "    </tr>\n",
       "  </tbody>\n",
       "</table>\n",
       "</div>"
      ],
      "text/plain": [
       "   sales  salary\n",
       "0      7       1\n",
       "1      7       2\n",
       "2      7       2\n",
       "3      7       1\n",
       "4      7       1"
      ]
     },
     "execution_count": 12,
     "metadata": {},
     "output_type": "execute_result"
    }
   ],
   "source": [
    "hr.sales = hr.sales.astype('category').cat.codes\n",
    "hr.salary = hr.salary.astype('category').cat.codes\n",
    "hr[[\"sales\",\"salary\"]].head()"
   ]
  },
  {
   "cell_type": "code",
   "execution_count": null,
   "metadata": {
    "collapsed": false
   },
   "outputs": [],
   "source": []
  },
  {
   "cell_type": "code",
   "execution_count": null,
   "metadata": {
    "collapsed": false
   },
   "outputs": [],
   "source": []
  },
  {
   "cell_type": "markdown",
   "metadata": {
    "collapsed": false
   },
   "source": [
    "Create quick test of basic classification algorithms to see how well each performs with mostly unaltered data"
   ]
  },
  {
   "cell_type": "code",
   "execution_count": 13,
   "metadata": {
    "collapsed": true
   },
   "outputs": [],
   "source": [
    "def predict_left(df, clf, test_size=0.2):\n",
    "    X = df.drop(['left'],1)\n",
    "    y = df.left \n",
    "    X_train, X_test, y_train, y_test = train_test_split(X, y, test_size=test_size)\n",
    "    \n",
    "    \n",
    "    clf.fit(X_train, y_train)\n",
    "    \n",
    "    train_pred = clf.predict(X_train)\n",
    "    test_pred = clf.predict(X_test)\n",
    "    print('Training Score: {:.3f}'.format(clf.score(X_train, y_train)))\n",
    "    print('Testing Score: %.3f' % (clf.score(X_test, y_test)))\n",
    "    \n",
    "    print()"
   ]
  },
  {
   "cell_type": "code",
   "execution_count": 15,
   "metadata": {
    "collapsed": false
   },
   "outputs": [
    {
     "name": "stdout",
     "output_type": "stream",
     "text": [
      "Classifier  0\n",
      "Training Score: 0.998\n",
      "Testing Score: 0.988\n",
      "\n",
      "Classifier  1\n",
      "Training Score: 0.997\n",
      "Testing Score: 0.986\n",
      "\n",
      "Classifier  2\n",
      "Training Score: 0.962\n",
      "Testing Score: 0.949\n",
      "\n",
      "Classifier  3\n",
      "Training Score: 0.780\n",
      "Testing Score: 0.774\n",
      "\n",
      "Classifier  4\n",
      "Training Score: 0.962\n",
      "Testing Score: 0.964\n",
      "\n",
      "Classifier  5\n",
      "Training Score: 0.977\n",
      "Testing Score: 0.974\n",
      "\n",
      "Classifier  6\n",
      "Training Score: 0.951\n",
      "Testing Score: 0.927\n",
      "\n"
     ]
    }
   ],
   "source": [
    "classifiers = [RandomForestClassifier(n_jobs=-1),\n",
    "               RandomForestClassifier(criterion='entropy', n_jobs=-1),\n",
    "               svm.SVC(),\n",
    "               LogisticRegressionCV(n_jobs=-1), \n",
    "               AdaBoostClassifier(), \n",
    "               GradientBoostingClassifier(),\n",
    "               neighbors.KNeighborsClassifier(n_jobs=-1)] \n",
    "\n",
    "np.random.seed(0)\n",
    "\n",
    "for i, clf in enumerate(classifiers):\n",
    "    print('Classifier ', i)\n",
    "    \n",
    "    predict_left(hr, clf, test_size=0.4)"
   ]
  },
  {
   "cell_type": "markdown",
   "metadata": {
    "collapsed": false
   },
   "source": [
    "They all seem to do well, besides svm, with Random Forest doing best regardless of it's criterion at ~98.7% predictive accuracy.\n",
    "\n",
    "Let's make sure they consistently produce that score using K-Fold Cross-Validation."
   ]
  },
  {
   "cell_type": "markdown",
   "metadata": {},
   "source": [
    "<!-- TEASER_END -->"
   ]
  },
  {
   "cell_type": "code",
   "execution_count": 16,
   "metadata": {
    "collapsed": false
   },
   "outputs": [],
   "source": [
    "def cross_val_left(hr, clf, cv_folds=CV_FOLDS, drop=['left']):\n",
    "    X = hr.drop(drop, 1)\n",
    "    y = hr.left \n",
    "    scores = cross_val_score(clf, X, y, cv=cv_folds, n_jobs=-1)#, scoring='roc_auc')\n",
    "    \n",
    "    \n",
    "    \n",
    "    print('Cross val score: ', sum(scores) / cv_folds )\n",
    "    print(scores)\n",
    "    \n",
    "    print()\n",
    "    "
   ]
  },
  {
   "cell_type": "code",
   "execution_count": 17,
   "metadata": {
    "collapsed": false
   },
   "outputs": [
    {
     "name": "stdout",
     "output_type": "stream",
     "text": [
      "Classifier  0\n",
      "Cross val score:  0.992066333178\n",
      "[ 0.99900033  0.981       0.98633333  0.99933311  0.99466489]\n",
      "\n",
      "Classifier  1\n",
      "Cross val score:  0.99173299983\n",
      "[ 0.99866711  0.98066667  0.98566667  0.99899967  0.99466489]\n",
      "\n"
     ]
    }
   ],
   "source": [
    "classifiers = [RandomForestClassifier(n_estimators=500 ,n_jobs=-1), RandomForestClassifier(n_estimators=500, criterion='entropy', n_jobs=-1)]\n",
    "\n",
    "for i, clf in enumerate(classifiers):\n",
    "    print('Classifier ', i)\n",
    "    \n",
    "    cross_val_left(hr, clf)"
   ]
  },
  {
   "cell_type": "markdown",
   "metadata": {},
   "source": [
    "Great, so they tend to do even better on average, with a score of 99.2% each over 5 cross-validation folds.\n",
    "\n",
    "Now let's see how the classifier improves with more and more training data by plotting a learning curve."
   ]
  },
  {
   "cell_type": "code",
   "execution_count": 18,
   "metadata": {
    "collapsed": false
   },
   "outputs": [],
   "source": [
    "clf = RandomForestClassifier(n_estimators=500, n_jobs=-1)\n",
    "X = hr.drop(['left'],1)\n",
    "y = hr.left \n",
    "train_sizes, train_scores, valid_scores = learning_curve(clf, X, y, train_sizes=np.linspace(.1, 1.0, 10), cv=5, n_jobs=-1)\n"
   ]
  },
  {
   "cell_type": "code",
   "execution_count": 20,
   "metadata": {
    "collapsed": false
   },
   "outputs": [
    {
     "data": {
      "image/png": "[encoded data removed]",
      "text/plain": [
       "<matplotlib.figure.Figure at 0x7f9200812748>"
      ]
     },
     "metadata": {},
     "output_type": "display_data"
    }
   ],
   "source": [
    "train_scores_mean = np.mean(train_scores, axis=1)\n",
    "train_scores_std = np.std(train_scores, axis=1)\n",
    "test_scores_mean = np.mean(valid_scores, axis=1)\n",
    "test_scores_std = np.std(valid_scores, axis=1)\n",
    "train_sizes = np.linspace(.1,1.0,10)\n",
    "plt.fill_between(train_sizes, train_scores_mean - train_scores_std,\n",
    "                     train_scores_mean + train_scores_std, alpha=0.1,\n",
    "                     color=\"r\")\n",
    "plt.fill_between(train_sizes, test_scores_mean - test_scores_std,\n",
    "                     test_scores_mean + test_scores_std, alpha=0.1, color=\"g\")\n",
    "\n",
    "plt.plot(train_sizes, train_scores_mean, 'o-', color=\"r\",\n",
    "             label=\"Training score\")\n",
    "plt.plot(train_sizes, test_scores_mean, 'o-', color=\"g\",\n",
    "             label=\"Cross-validation score\")\n",
    "\n",
    "plt.xlabel(\"Training examples\")\n",
    "plt.ylabel(\"Score\")\n",
    "\n",
    "plt.grid()\n",
    "plt.legend(loc=\"best\")\n",
    "plt.show()"
   ]
  },
  {
   "cell_type": "markdown",
   "metadata": {},
   "source": [
    "So there seems to be a huge improvement between getting 10% and 20% of the data, with mild improvements after that.\n",
    "\n",
    "Let's zoom in on the improvements after 40% of the training data is being trained on to get a better picture.\n",
    "\n",
    "The blue outline around the green cross-validation score is the standard deviation of the predicted scores."
   ]
  },
  {
   "cell_type": "code",
   "execution_count": 22,
   "metadata": {
    "collapsed": false
   },
   "outputs": [
    {
     "data": {
      "image/png": "[encoded data removed]",
      "text/plain": [
       "<matplotlib.figure.Figure at 0x7f92007f05c0>"
      ]
     },
     "metadata": {},
     "output_type": "display_data"
    }
   ],
   "source": [
    "train_scores_mean = np.mean(train_scores, axis=1)[3:] # 0.4 on\n",
    "train_scores_std = np.std(train_scores, axis=1)[3:]\n",
    "test_scores_mean = np.mean(valid_scores, axis=1)[3:]\n",
    "test_scores_std = np.std(valid_scores, axis=1)[3:]\n",
    "train_sizes = np.linspace(.1,1.0,10)[3:]\n",
    "\n",
    "plt.fill_between(train_sizes, train_scores_mean - train_scores_std,\n",
    "                     train_scores_mean + train_scores_std, alpha=0.1,\n",
    "                     color=\"r\")\n",
    "plt.fill_between(train_sizes, test_scores_mean - test_scores_std,\n",
    "                     test_scores_mean + test_scores_std, alpha=0.1, color=\"g\")\n",
    "\n",
    "plt.plot(train_sizes, train_scores_mean, 'o-', color=\"r\",\n",
    "             label=\"Training score\")\n",
    "plt.plot(train_sizes, test_scores_mean, 'o-', color=\"g\",\n",
    "             label=\"Cross-validation score\")\n",
    "\n",
    "plt.xlabel(\"Training examples\")\n",
    "plt.ylabel(\"Score\")\n",
    "\n",
    "plt.grid()\n",
    "plt.legend(loc=\"best\")\n",
    "plt.show()"
   ]
  },
  {
   "cell_type": "markdown",
   "metadata": {},
   "source": [
    "Now let's do some feature engineering by removing the features that least matter"
   ]
  },
  {
   "cell_type": "code",
   "execution_count": 23,
   "metadata": {
    "collapsed": false
   },
   "outputs": [
    {
     "name": "stdout",
     "output_type": "stream",
     "text": [
      "Index(['satisfaction_level', 'last_evaluation', 'number_project',\n",
      "       'average_montly_hours', 'time_spend_company', 'Work_accident',\n",
      "       'promotion_last_5years', 'sales', 'salary'],\n",
      "      dtype='object')\n"
     ]
    },
    {
     "data": {
      "text/plain": [
       "array([ 0.35281425,  0.12245364,  0.17699997,  0.13926035,  0.18173432,\n",
       "        0.00579433,  0.00109572,  0.01171832,  0.00812909])"
      ]
     },
     "execution_count": 23,
     "metadata": {},
     "output_type": "execute_result"
    }
   ],
   "source": [
    "clf = RandomForestClassifier(n_estimators=500, n_jobs=-1)\n",
    "X = hr.drop(['left'],1)\n",
    "y = hr.left \n",
    "X_train, X_test, y_train, y_test = train_test_split(X, y, test_size=0.2)\n",
    "    \n",
    "    \n",
    "clf.fit(X_train, y_train)\n",
    "print(X.columns)\n",
    "clf.feature_importances_"
   ]
  },
  {
   "cell_type": "markdown",
   "metadata": {
    "collapsed": false
   },
   "source": [
    "Let's start by dropping all features with lower than 0.01 relevance.\n",
    "\n",
    "It's possible that a feature with a low \"relevance\" can still matter if the magnitude is great enough, however most of these values are in the same range near zero, so that shouldn't matter."
   ]
  },
  {
   "cell_type": "code",
   "execution_count": 25,
   "metadata": {
    "collapsed": false
   },
   "outputs": [
    {
     "name": "stdout",
     "output_type": "stream",
     "text": [
      "Classifier  0\n",
      "Cross val score:  0.991666333133\n",
      "[ 0.99800067  0.981       0.98633333  0.99866622  0.99433144]\n",
      "\n",
      "Classifier  1\n",
      "Cross val score:  0.991399577563\n",
      "[ 0.99833389  0.98066667  0.986       0.99833278  0.99366455]\n",
      "\n"
     ]
    }
   ],
   "source": [
    "drop = ['left', 'promotion_last_5years', 'Work_accident', 'sales', 'salary']\n",
    "for i, clf in enumerate(classifiers):\n",
    "    print('Classifier ', i)\n",
    "    \n",
    "    cross_val_left(hr, clf, drop=drop)"
   ]
  },
  {
   "cell_type": "markdown",
   "metadata": {},
   "source": [
    "So it seems that dropping all with < 0.01 relevance seems to not affect score much: \n",
    "\n",
    "99.20% -> 99.16%\n",
    "\n",
    "Let's investigate further."
   ]
  },
  {
   "cell_type": "code",
   "execution_count": 18,
   "metadata": {
    "collapsed": false
   },
   "outputs": [
    {
     "data": {
      "text/plain": [
       "satisfaction_level      -0.388375\n",
       "last_evaluation          0.006567\n",
       "number_project           0.023787\n",
       "average_montly_hours     0.071287\n",
       "time_spend_company       0.144822\n",
       "Work_accident           -0.154622\n",
       "left                     1.000000\n",
       "promotion_last_5years   -0.061788\n",
       "sales                    0.032105\n",
       "salary                  -0.001294\n",
       "Name: left, dtype: float64"
      ]
     },
     "execution_count": 18,
     "metadata": {},
     "output_type": "execute_result"
    }
   ],
   "source": [
    "hr.corr()[\"left\"]"
   ]
  },
  {
   "cell_type": "code",
   "execution_count": 19,
   "metadata": {
    "collapsed": false
   },
   "outputs": [
    {
     "name": "stdout",
     "output_type": "stream",
     "text": [
      "Classifier  0\n",
      "Cross val score:  0.991599666467\n",
      "[ 0.99800067  0.98066667  0.98633333  0.99866622  0.99433144]\n",
      "\n",
      "Classifier  1\n",
      "Cross val score:  0.991532977585\n",
      "[ 0.99833389  0.98066667  0.98566667  0.99866622  0.99433144]\n",
      "\n"
     ]
    }
   ],
   "source": [
    "# Drop everything with corr to left of < 0.005\n",
    "# Makes it worse\n",
    "drop = ['left',  'sales', 'salary']\n",
    "classifiers = [RandomForestClassifier(n_estimators=500 ,n_jobs=-1), RandomForestClassifier(n_estimators=500, criterion='entropy', n_jobs=-1)]#, svm.SVC()]#xgb.XGBClassifier(n_estimators=500, nthread=-1)]# svm.SVC()]\n",
    "\n",
    "for i, clf in enumerate(classifiers):\n",
    "    print('Classifier ', i)\n",
    "    \n",
    "    cross_val_left(hr, clf, drop=drop)"
   ]
  },
  {
   "cell_type": "code",
   "execution_count": 20,
   "metadata": {
    "collapsed": false
   },
   "outputs": [
    {
     "name": "stdout",
     "output_type": "stream",
     "text": [
      "[ True  True  True  True  True False False  True  True]\n",
      "[1 1 1 1 1 2 3 1 1]\n"
     ]
    }
   ],
   "source": [
    "from sklearn.feature_selection import RFE\n",
    "model = RandomForestClassifier(n_estimators=500, n_jobs=-1)\n",
    "clf = RFE(model,7 )\n",
    "\n",
    "X = hr.drop(['left'],1)\n",
    "y = hr.left \n",
    "X_train, X_test, y_train, y_test = train_test_split(X, y, test_size=0.2)\n",
    "    \n",
    "    \n",
    "clf.fit(X_train, y_train)\n",
    "print(clf.support_)\n",
    "print(clf.ranking_)\n",
    "# Gets same result as feature_importance, which makes sense"
   ]
  },
  {
   "cell_type": "code",
   "execution_count": 21,
   "metadata": {
    "collapsed": false
   },
   "outputs": [],
   "source": [
    "# from sklearn.feature_selection import RFE\n",
    "# model = svm.SVC(kernel='linear')\n",
    "# clf = RFE(model,5 )\n",
    "\n",
    "# X = hr.drop(['left'],1)\n",
    "# y = hr.left \n",
    "# X_train, X_test, y_train, y_test = train_test_split(X, y, test_size=0.2)\n",
    "    \n",
    "    \n",
    "# clf.fit(X_train, y_train)\n",
    "# print(clf.support_)\n",
    "# print(clf.ranking_)\n",
    "# # Gets same result as feature_importance"
   ]
  },
  {
   "cell_type": "code",
   "execution_count": 22,
   "metadata": {
    "collapsed": true
   },
   "outputs": [],
   "source": [
    "# PCA on relevant features\n",
    "drop = ['left',  'sales', 'salary']\n",
    "\n",
    "y = np.array(hr.left)\n",
    "\n",
    "X = np.array(hr.drop(drop,1))\n",
    "pca = PCA(n_components=2).fit(X)\n",
    "X_pca = pca.transform(X)"
   ]
  },
  {
   "cell_type": "code",
   "execution_count": 23,
   "metadata": {
    "collapsed": false
   },
   "outputs": [
    {
     "name": "stdout",
     "output_type": "stream",
     "text": [
      "[[ -1.00023273e-04   1.16454622e-03   1.03016962e-02   9.99939260e-01\n",
      "    3.73903652e-03  -7.14279278e-05  -1.02210933e-05]\n",
      " [ -2.15563235e-02   1.53851479e-02   2.72466874e-01  -6.42326612e-03\n",
      "    9.61758360e-01   7.45692132e-04   6.28225738e-03]]\n"
     ]
    }
   ],
   "source": [
    "print(pca.components_)"
   ]
  },
  {
   "cell_type": "code",
   "execution_count": 24,
   "metadata": {
    "collapsed": false
   },
   "outputs": [
    {
     "name": "stdout",
     "output_type": "stream",
     "text": [
      "[  9.98565340e-01   8.69246970e-04]\n",
      "0.999434587329\n"
     ]
    }
   ],
   "source": [
    "print(pca.explained_variance_ratio_)\n",
    "print(sum(pca.explained_variance_ratio_))"
   ]
  },
  {
   "cell_type": "code",
   "execution_count": 25,
   "metadata": {
    "collapsed": false
   },
   "outputs": [
    {
     "name": "stdout",
     "output_type": "stream",
     "text": [
      "Cross val score:  0.970532643193\n",
      "[ 0.97700766  0.95133333  0.95766667  0.984995    0.98166055]\n"
     ]
    }
   ],
   "source": [
    "# Still get good accuracy, ~97%\n",
    "clf = RandomForestClassifier(n_estimators=500, n_jobs=-1)\n",
    "y = np.array(hr.left) \n",
    "\n",
    "scores = cross_val_score(clf, X_pca, y, cv=CV_FOLDS, n_jobs=-1)\n",
    "    \n",
    "    \n",
    "    \n",
    "print('Cross val score: ', sum(scores) / CV_FOLDS )\n",
    "print(scores)"
   ]
  },
  {
   "cell_type": "code",
   "execution_count": 27,
   "metadata": {
    "collapsed": false
   },
   "outputs": [
    {
     "data": {
      "image/png": "[encoded data removed]",
      "text/plain": [
       "<matplotlib.figure.Figure at 0x7f4288c352b0>"
      ]
     },
     "metadata": {},
     "output_type": "display_data"
    }
   ],
   "source": [
    "colors = itertools.cycle('rb')\n",
    "target_ids = range(2)\n",
    "plt.figure()\n",
    "for i, c, label in zip(target_ids, colors, [\"stay\",\"left\"]):\n",
    "    plt.scatter(X_pca[y == i, 0], X_pca[y == i, 1],\n",
    "                c=c, label=label)\n",
    "plt.legend()\n",
    "plt.show()"
   ]
  },
  {
   "cell_type": "code",
   "execution_count": null,
   "metadata": {
    "collapsed": false
   },
   "outputs": [],
   "source": []
  },
  {
   "cell_type": "code",
   "execution_count": null,
   "metadata": {
    "collapsed": false
   },
   "outputs": [],
   "source": []
  },
  {
   "cell_type": "code",
   "execution_count": null,
   "metadata": {
    "collapsed": false
   },
   "outputs": [],
   "source": []
  },
  {
   "cell_type": "code",
   "execution_count": null,
   "metadata": {
    "collapsed": false
   },
   "outputs": [],
   "source": []
  },
  {
   "cell_type": "code",
   "execution_count": 29,
   "metadata": {
    "collapsed": false
   },
   "outputs": [
    {
     "name": "stderr",
     "output_type": "stream",
     "text": [
      "/home/altock/anaconda3/envs/py35/lib/python3.5/site-packages/matplotlib/collections.py:865: RuntimeWarning: invalid value encountered in sqrt\n",
      "  scale = np.sqrt(self._sizes) * dpi / 72.0 * self._factor\n"
     ]
    },
    {
     "data": {
      "image/png": "[encoded data removed]",
      "text/plain": [
       "<matplotlib.figure.Figure at 0x7f4288880668>"
      ]
     },
     "metadata": {},
     "output_type": "display_data"
    }
   ],
   "source": [
    "# 3D PCA, Clear plane difference between them\n",
    "drop = ['left',  'sales', 'salary']\n",
    "\n",
    "y = np.array(hr.left)\n",
    "\n",
    "X = np.array(hr.drop(drop,1))\n",
    "pca = PCA(n_components=3).fit(X)\n",
    "X_pca = pca.transform(X)\n",
    "\n",
    "colors = itertools.cycle('rb')\n",
    "target_ids = range(2)\n",
    "fig = plt.figure()\n",
    "ax = fig.add_subplot(111, projection='3d')\n",
    "for i, c, label in zip(target_ids, colors, [\"stay\",\"left\"]):\n",
    "    plt.scatter(X_pca[y == i, 0], X_pca[y == i, 1],X_pca[y == i, 2],\n",
    "                c=c, label=label)\n",
    "    \n",
    "ax.set_xlabel('X Label')\n",
    "ax.set_ylabel('Y Label')\n",
    "ax.set_zlabel('Z Label')\n",
    "    \n",
    "plt.legend()\n",
    "plt.show()"
   ]
  },
  {
   "cell_type": "code",
   "execution_count": 30,
   "metadata": {
    "collapsed": false
   },
   "outputs": [
    {
     "name": "stdout",
     "output_type": "stream",
     "text": [
      "Cross val score:  0.97146639883\n",
      "[ 0.97567478  0.95166667  0.95833333  0.98332778  0.98832944]\n"
     ]
    }
   ],
   "source": [
    "# 3D accuracy is the same as 2D\n",
    "clf = RandomForestClassifier(n_estimators=500, n_jobs=-1)\n",
    "y = hr.left \n",
    "\n",
    "scores = cross_val_score(clf, X_pca, y, cv=CV_FOLDS, n_jobs=-1)\n",
    "    \n",
    "    \n",
    "    \n",
    "print('Cross val score: ', sum(scores) / CV_FOLDS )\n",
    "print(scores)"
   ]
  },
  {
   "cell_type": "code",
   "execution_count": 31,
   "metadata": {
    "collapsed": false
   },
   "outputs": [
    {
     "data": {
      "text/plain": [
       "satisfaction_level       0.003153\n",
       "last_evaluation          0.007772\n",
       "number_project           0.009268\n",
       "average_montly_hours     0.003913\n",
       "time_spend_company      -0.018010\n",
       "Work_accident            0.003425\n",
       "left                     0.032105\n",
       "promotion_last_5years   -0.027336\n",
       "sales                    1.000000\n",
       "salary                   0.000685\n",
       "Name: sales, dtype: float64"
      ]
     },
     "execution_count": 31,
     "metadata": {},
     "output_type": "execute_result"
    }
   ],
   "source": [
    "# Attempt to find department level features, doesn't seem to matter\n",
    "hr_corr = hr.corr()\n",
    "hr_corr[\"sales\"]"
   ]
  },
  {
   "cell_type": "code",
   "execution_count": 32,
   "metadata": {
    "collapsed": false
   },
   "outputs": [
    {
     "data": {
      "text/plain": [
       "array(['satisfaction_level', 'last_evaluation', 'number_project',\n",
       "       'average_montly_hours', 'time_spend_company', 'Work_accident',\n",
       "       'left', 'promotion_last_5years', 'sales', 'salary'], dtype=object)"
      ]
     },
     "execution_count": 32,
     "metadata": {},
     "output_type": "execute_result"
    }
   ],
   "source": [
    "hr.columns.values"
   ]
  },
  {
   "cell_type": "code",
   "execution_count": 33,
   "metadata": {
    "collapsed": false
   },
   "outputs": [
    {
     "name": "stdout",
     "output_type": "stream",
     "text": [
      "      satisfaction_level          \n",
      "                    size      mean\n",
      "sales                             \n",
      "0                 1227.0  0.618142\n",
      "1                  787.0  0.619822\n",
      "2                  767.0  0.582151\n",
      "3                  739.0  0.598809\n",
      "4                  630.0  0.621349\n",
      "5                  858.0  0.618601\n",
      "6                  902.0  0.619634\n",
      "7                 4140.0  0.614447\n",
      "8                 2229.0  0.618300\n",
      "9                 2720.0  0.607897\n",
      "      last_evaluation          \n",
      "                 size      mean\n",
      "sales                          \n",
      "0              1227.0  0.716830\n",
      "1               787.0  0.712122\n",
      "2               767.0  0.717718\n",
      "3               739.0  0.708850\n",
      "4               630.0  0.724000\n",
      "5               858.0  0.715886\n",
      "6               902.0  0.714756\n",
      "7              4140.0  0.709717\n",
      "8              2229.0  0.723109\n",
      "9              2720.0  0.721099\n",
      "      number_project          \n",
      "                size      mean\n",
      "sales                         \n",
      "0               1227  3.816626\n",
      "1                787  3.853875\n",
      "2                767  3.825293\n",
      "3                739  3.654939\n",
      "4                630  3.860317\n",
      "5                858  3.687646\n",
      "6                902  3.807095\n",
      "7               4140  3.776329\n",
      "8               2229  3.803948\n",
      "9               2720  3.877941\n",
      "      average_montly_hours            \n",
      "                      size        mean\n",
      "sales                                 \n",
      "0                     1227  202.215974\n",
      "1                      787  200.800508\n",
      "2                      767  201.162973\n",
      "3                      739  198.684709\n",
      "4                      630  201.249206\n",
      "5                      858  199.385781\n",
      "6                      902  199.965632\n",
      "7                     4140  200.911353\n",
      "8                     2229  200.758188\n",
      "9                     2720  202.497426\n",
      "      time_spend_company          \n",
      "                    size      mean\n",
      "sales                             \n",
      "0                   1227  3.468623\n",
      "1                    787  3.367217\n",
      "2                    767  3.522816\n",
      "3                    739  3.355886\n",
      "4                    630  4.303175\n",
      "5                    858  3.569930\n",
      "6                    902  3.475610\n",
      "7                   4140  3.534058\n",
      "8                   2229  3.393001\n",
      "9                   2720  3.411397\n",
      "      Work_accident          \n",
      "               size      mean\n",
      "sales                        \n",
      "0              1227  0.133659\n",
      "1               787  0.170267\n",
      "2               767  0.125163\n",
      "3               739  0.120433\n",
      "4               630  0.163492\n",
      "5               858  0.160839\n",
      "6               902  0.146341\n",
      "7              4140  0.141787\n",
      "8              2229  0.154778\n",
      "9              2720  0.140074\n",
      "       left          \n",
      "       size      mean\n",
      "sales                \n",
      "0      1227  0.222494\n",
      "1       787  0.153748\n",
      "2       767  0.265971\n",
      "3       739  0.290934\n",
      "4       630  0.144444\n",
      "5       858  0.236597\n",
      "6       902  0.219512\n",
      "7      4140  0.244928\n",
      "8      2229  0.248991\n",
      "9      2720  0.256250\n",
      "      promotion_last_5years          \n",
      "                       size      mean\n",
      "sales                                \n",
      "0                      1227  0.002445\n",
      "1                       787  0.034307\n",
      "2                       767  0.018253\n",
      "3                       739  0.020298\n",
      "4                       630  0.109524\n",
      "5                       858  0.050117\n",
      "6                       902  0.000000\n",
      "7                      4140  0.024155\n",
      "8                      2229  0.008973\n",
      "9                      2720  0.010294\n",
      "      sales     \n",
      "       size mean\n",
      "sales           \n",
      "0      1227    0\n",
      "1       787    1\n",
      "2       767    2\n",
      "3       739    3\n",
      "4       630    4\n",
      "5       858    5\n",
      "6       902    6\n",
      "7      4140    7\n",
      "8      2229    8\n",
      "9      2720    9\n",
      "      salary          \n",
      "        size      mean\n",
      "sales                 \n",
      "0       1227  1.368378\n",
      "1        787  1.407878\n",
      "2        767  1.340287\n",
      "3        739  1.424899\n",
      "4        630  1.000000\n",
      "5        858  1.344988\n",
      "6        902  1.349224\n",
      "7       4140  1.363043\n",
      "8       2229  1.359354\n",
      "9       2720  1.347794\n"
     ]
    }
   ],
   "source": [
    "for col in hr.columns:\n",
    "    depProperties = hr.groupby('sales').agg({col:[np.size,np.mean]})\n",
    "    print(depProperties)"
   ]
  },
  {
   "cell_type": "code",
   "execution_count": 34,
   "metadata": {
    "collapsed": false
   },
   "outputs": [],
   "source": [
    "clf = RandomForestClassifier(n_estimators=500, n_jobs=-1)\n",
    "X = hr.drop(drop,1)\n",
    "y = hr.left \n",
    "X_train, X_test, y_train, y_test = train_test_split(X, y, test_size=0.2)\n",
    "    \n",
    "    \n",
    "clf.fit(X_train, y_train)\n",
    "y_pred = clf.predict(X_test)"
   ]
  },
  {
   "cell_type": "code",
   "execution_count": 35,
   "metadata": {
    "collapsed": false
   },
   "outputs": [
    {
     "data": {
      "image/png": "[encoded data removed]",
      "text/plain": [
       "<matplotlib.figure.Figure at 0x7f4288c18390>"
      ]
     },
     "metadata": {},
     "output_type": "display_data"
    }
   ],
   "source": [
    "def plot_confusion_matrix(cm, classes,\n",
    "                          title='Confusion matrix',\n",
    "                          cmap=plt.cm.Blues):\n",
    "    \n",
    "    plt.imshow(cm, interpolation='nearest', cmap=cmap)\n",
    "    plt.title(title)\n",
    "    plt.colorbar()\n",
    "    tick_marks = np.arange(len(classes))\n",
    "    plt.xticks(tick_marks, classes, rotation=45)\n",
    "    plt.yticks(tick_marks, classes)\n",
    "\n",
    "    thresh = cm.max() / 2.\n",
    "    for i, j in itertools.product(range(cm.shape[0]), range(cm.shape[1])):\n",
    "        plt.text(j, i, cm[i, j],\n",
    "                 horizontalalignment=\"center\",\n",
    "                 color=\"white\" if cm[i, j] > thresh else \"black\")\n",
    "\n",
    "    plt.tight_layout()\n",
    "    plt.ylabel('True label')\n",
    "    plt.xlabel('Predicted label')\n",
    "\n",
    "# Compute confusion matrix\n",
    "cnf_matrix = confusion_matrix(y_test, y_pred)\n",
    "np.set_printoptions(precision=10)\n",
    "\n",
    "class_names = [\"Stay\",\"Left\"]\n",
    "\n",
    "plot_confusion_matrix(cnf_matrix, classes=class_names,\n",
    "                      title='Confusion matrix')\n",
    "\n",
    "\n",
    "plt.show()"
   ]
  },
  {
   "cell_type": "code",
   "execution_count": 36,
   "metadata": {
    "collapsed": false
   },
   "outputs": [
    {
     "name": "stdout",
     "output_type": "stream",
     "text": [
      "             precision    recall  f1-score   support\n",
      "\n",
      "       Stay       0.99      1.00      0.99      2296\n",
      "       Left       0.99      0.96      0.98       704\n",
      "\n",
      "avg / total       0.99      0.99      0.99      3000\n",
      "\n"
     ]
    }
   ],
   "source": [
    "print(classification_report(y_test,y_pred, target_names=class_names))"
   ]
  },
  {
   "cell_type": "code",
   "execution_count": null,
   "metadata": {
    "collapsed": true
   },
   "outputs": [],
   "source": [
    "# Department metrics don't work\n",
    "\n",
    "# hr[\"is_4\"] = hr.sales.apply(lambda x: x== 4)\n",
    "\n",
    "# depProperties = hr.groupby('sales').agg({'promotion_last_5years':np.mean}).values\n",
    "# hr[\"avg_per_team\"] = hr.sales.apply(lambda x: depProperties[x])"
   ]
  }
 ],
 "metadata": {
  "anaconda-cloud": {},
  "kernelspec": {
   "display_name": "Python [conda env:py35]",
   "language": "python",
   "name": "conda-env-py35-py"
  },
  "language_info": {
   "codemirror_mode": {
    "name": "ipython",
    "version": 3
   },
   "file_extension": ".py",
   "mimetype": "text/x-python",
   "name": "python",
   "nbconvert_exporter": "python",
   "pygments_lexer": "ipython3",
   "version": "3.5.3"
  },
  "metadata": {
   "Author": "Sam \"Sven\" Svenningsen",
   "Category": "posts",
   "Date": "2017-03-01 7:00",
   "Slug": "hr-post",
   "Summary": "My first post, read it to find out.",
   "Tags": "python, firsts",
   "Title": "HR Post"
  },
  "nikola": {
   "category": "",
   "date": "2017-03-02 20:00:21 UTC-05:00",
   "description": "",
   "link": "",
   "slug": "992-accuracy-on-employee-resignations",
   "tags": "",
   "title": "99.2% Accuracy on Employee Resignations",
   "type": "text"
  }
 },
 "nbformat": 4,
 "nbformat_minor": 2
}
